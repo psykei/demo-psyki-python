{
 "cells": [
  {
   "cell_type": "markdown",
   "source": [
    "# Working demonstration of KINS injector using the Census Income dataset\n",
    "\n",
    "Notebook organisation:\n",
    "1. [**imports and utility functions**](#imports)\n",
    "2. [**dataset description, analysis and preprocessing**](#dataset-description,-analysis-and-preprocessing)\n",
    "3. [**injection**](#injection) (if you are interested only in the injection mechanism skip the other parts)\n",
    "4. [**training and evaluation**](#training-and-evaluation)\n",
    "\n",
    "Note: Internet connection is required to download the dataset.\n",
    "If the files of the Census Income dataset are in folder `data` Internet connection is not required."
   ],
   "metadata": {
    "collapsed": false
   }
  },
  {
   "cell_type": "markdown",
   "source": [
    "<a id='imports'></a>\n",
    "## Imports and utility functions\n",
    "\n",
    "Some necessary imports:\n",
    "- __re__ for regex operations\n",
    "- __os__ to use other resources in this repository\n",
    "- __pandas__ for data retrieval and statistics\n",
    "- __tensorflow__ for neural networks\n",
    "- __psyki__ for symbolic knowledge injection\n",
    "- __typing__ for better quality"
   ],
   "metadata": {
    "collapsed": false
   }
  },
  {
   "cell_type": "code",
   "execution_count": 1,
   "outputs": [],
   "source": [
    "import os\n",
    "from sklearn.model_selection import train_test_split\n",
    "from tensorflow.python.framework.random_seed import set_seed\n",
    "from tensorflow.python.keras.utils.np_utils import to_categorical\n",
    "from psyki.logic import Theory\n",
    "from psyki.logic.prolog import TuProlog\n",
    "from psyki.ski import Injector\n",
    "\n",
    "os.getcwd()\n",
    "from knowledge import PATH as KNOWLEDGE_PATH\n",
    "from data import SpliceJunction\n",
    "from utils import create_uneducated_predictor"
   ],
   "metadata": {
    "collapsed": false
   }
  },
  {
   "cell_type": "code",
   "execution_count": 2,
   "outputs": [],
   "source": [
    "SPLICE_KNOWLEDGE_FILE = str(KNOWLEDGE_PATH / SpliceJunction.knowledge_file_name)\n",
    "\n",
    "# Training parameters\n",
    "\n",
    "SEED = 0\n",
    "EPOCHS = 100\n",
    "BATCH_SIZE = 32\n",
    "VERBOSE = 1"
   ],
   "metadata": {
    "collapsed": false
   }
  },
  {
   "cell_type": "markdown",
   "source": [
    "## Dataset description, analysis and preprocessing\n",
    "(If you are interested only in the injection part you can skip this section)"
   ],
   "metadata": {
    "collapsed": false
   }
  },
  {
   "cell_type": "markdown",
   "source": [
    "Download (if not already present) train and test set.\n",
    "The dataset contains a sequence of 60 nucleotides and a label.\n",
    "The label can be:\n",
    "- __ei__: Exon-intron boundary, parts of the DNA sequence that are retained after splicing (donors);\n",
    "- __ie__: Intron-exon boundary, parts of the DNA sequence that are spliced out (acceptors);\n",
    "- __n__: Non-splicing boundary, parts of the DNA sequence that are neither retained nor spliced out."
   ],
   "metadata": {
    "collapsed": false
   }
  },
  {
   "cell_type": "code",
   "execution_count": 3,
   "outputs": [],
   "source": [
    "not_processed = SpliceJunction.get_train()"
   ],
   "metadata": {
    "collapsed": false
   }
  },
  {
   "cell_type": "markdown",
   "source": [
    "A first look at the dataset:\n",
    "- 3190 samples in total, 2552 in the training set and 638 in the test set;\n",
    "- There are three columns, the first one is the label, the second one is the identifier of the sample and the third one is the sequence;\n",
    "- Classes are reparted as follows:\n",
    "    - ei: 768\n",
    "    - ie: 767\n",
    "    - n: 1655"
   ],
   "metadata": {
    "collapsed": false
   }
  },
  {
   "cell_type": "code",
   "execution_count": 4,
   "outputs": [
    {
     "data": {
      "text/plain": "       0                   1  \\\n0     EI    ATRINS-DONOR-521   \n1     EI    ATRINS-DONOR-905   \n2     EI    BABAPOE-DONOR-30   \n3     EI   BABAPOE-DONOR-867   \n4     EI  BABAPOE-DONOR-2817   \n...   ..                 ...   \n3185   N  ORAHBPSBD-NEG-2881   \n3186   N   ORAINVOL-NEG-2161   \n3187   N     ORARGIT-NEG-241   \n3188   N      TARHBB-NEG-541   \n3189   N     TARHBD-NEG-1981   \n\n                                                      2  \n0     CCAGCTGCATCACAGGAGGCCAGCGAGCAGGTCTGTTCCAAGGGCC...  \n1     AGACCCGCCGGGAGGCGGAGGACCTGCAGGGTGAGCCCCACCGCCC...  \n2     GAGGTGAAGGACGTCCTTCCCCAGGAGCCGGTGAGAAGCGCAGTCG...  \n3     GGGCTGCGTTGCTGGTCACATTCCTGGCAGGTATGGGGCGGGGCTT...  \n4     GCTCAGCCCCCAGGTCACCCAGGAACTGACGTGAGTGTCCCCATCC...  \n...                                                 ...  \n3185  TCTCTTCCCTTCCCCTCTCTCTTTCTTTCTTTTCTCTCCTCTTCTC...  \n3186  GAGCTCCCAGAGCAGCAAGAGGGCCAGCTGAAGCACCTGGAGAAGC...  \n3187  TCTCGGGGGCGGCCGGCGCGGCGGGGAGCGGTCCCCGGCCGCGGCC...  \n3188  ATTCTACTTAGTAAACATAATTTCTTGTGCTAGATAACCAAATTAA...  \n3189  AGGCTGCCTATCAGAAGGTGGTGGCTGGTGTGGCTGCTGCTCTGGC...  \n\n[3190 rows x 3 columns]",
      "text/html": "<div>\n<style scoped>\n    .dataframe tbody tr th:only-of-type {\n        vertical-align: middle;\n    }\n\n    .dataframe tbody tr th {\n        vertical-align: top;\n    }\n\n    .dataframe thead th {\n        text-align: right;\n    }\n</style>\n<table border=\"1\" class=\"dataframe\">\n  <thead>\n    <tr style=\"text-align: right;\">\n      <th></th>\n      <th>0</th>\n      <th>1</th>\n      <th>2</th>\n    </tr>\n  </thead>\n  <tbody>\n    <tr>\n      <th>0</th>\n      <td>EI</td>\n      <td>ATRINS-DONOR-521</td>\n      <td>CCAGCTGCATCACAGGAGGCCAGCGAGCAGGTCTGTTCCAAGGGCC...</td>\n    </tr>\n    <tr>\n      <th>1</th>\n      <td>EI</td>\n      <td>ATRINS-DONOR-905</td>\n      <td>AGACCCGCCGGGAGGCGGAGGACCTGCAGGGTGAGCCCCACCGCCC...</td>\n    </tr>\n    <tr>\n      <th>2</th>\n      <td>EI</td>\n      <td>BABAPOE-DONOR-30</td>\n      <td>GAGGTGAAGGACGTCCTTCCCCAGGAGCCGGTGAGAAGCGCAGTCG...</td>\n    </tr>\n    <tr>\n      <th>3</th>\n      <td>EI</td>\n      <td>BABAPOE-DONOR-867</td>\n      <td>GGGCTGCGTTGCTGGTCACATTCCTGGCAGGTATGGGGCGGGGCTT...</td>\n    </tr>\n    <tr>\n      <th>4</th>\n      <td>EI</td>\n      <td>BABAPOE-DONOR-2817</td>\n      <td>GCTCAGCCCCCAGGTCACCCAGGAACTGACGTGAGTGTCCCCATCC...</td>\n    </tr>\n    <tr>\n      <th>...</th>\n      <td>...</td>\n      <td>...</td>\n      <td>...</td>\n    </tr>\n    <tr>\n      <th>3185</th>\n      <td>N</td>\n      <td>ORAHBPSBD-NEG-2881</td>\n      <td>TCTCTTCCCTTCCCCTCTCTCTTTCTTTCTTTTCTCTCCTCTTCTC...</td>\n    </tr>\n    <tr>\n      <th>3186</th>\n      <td>N</td>\n      <td>ORAINVOL-NEG-2161</td>\n      <td>GAGCTCCCAGAGCAGCAAGAGGGCCAGCTGAAGCACCTGGAGAAGC...</td>\n    </tr>\n    <tr>\n      <th>3187</th>\n      <td>N</td>\n      <td>ORARGIT-NEG-241</td>\n      <td>TCTCGGGGGCGGCCGGCGCGGCGGGGAGCGGTCCCCGGCCGCGGCC...</td>\n    </tr>\n    <tr>\n      <th>3188</th>\n      <td>N</td>\n      <td>TARHBB-NEG-541</td>\n      <td>ATTCTACTTAGTAAACATAATTTCTTGTGCTAGATAACCAAATTAA...</td>\n    </tr>\n    <tr>\n      <th>3189</th>\n      <td>N</td>\n      <td>TARHBD-NEG-1981</td>\n      <td>AGGCTGCCTATCAGAAGGTGGTGGCTGGTGTGGCTGCTGCTCTGGC...</td>\n    </tr>\n  </tbody>\n</table>\n<p>3190 rows × 3 columns</p>\n</div>"
     },
     "execution_count": 4,
     "metadata": {},
     "output_type": "execute_result"
    }
   ],
   "source": [
    "not_processed"
   ],
   "metadata": {
    "collapsed": false
   }
  },
  {
   "cell_type": "markdown",
   "source": [
    "### Data preprocessing\n",
    "\n",
    "- we discard columns 1 and create 60 new features from column 2;\n",
    "- we then expand the 60 features into **4 x 60 = 240** new features. We basically create 4 new features for each of the 60 nucleotides. Each of the 4 new features is a binary feature that is 1 if the nucleotide is A, C, G or T respectively (multi-hot encoding). This is done because there are other symbols other than A, C, G and T in the dataset (e.g., the symbol M is used to represent a nucleotide that can be both A or C)."
   ],
   "metadata": {
    "collapsed": false
   }
  },
  {
   "cell_type": "code",
   "execution_count": 5,
   "outputs": [
    {
     "data": {
      "text/plain": "      X_30a  X_30c  X_30g  X_30t  X_29a  X_29c  X_29g  X_29t  X_28a  X_28c  \\\n891       1      0      0      0      1      0      0      0      0      1   \n900       0      0      0      1      0      1      0      0      0      1   \n2753      0      0      0      1      0      0      1      0      0      0   \n1240      0      0      1      0      0      0      1      0      0      0   \n1904      0      1      0      0      1      0      0      0      0      0   \n...     ...    ...    ...    ...    ...    ...    ...    ...    ...    ...   \n2844      0      1      0      0      0      0      0      1      0      0   \n467       0      0      1      0      0      0      1      0      0      1   \n1521      1      0      0      0      0      0      0      1      0      0   \n1559      0      1      0      0      0      1      0      0      0      1   \n2534      0      0      0      1      0      0      0      1      0      1   \n\n      ...  X28t  X29a  X29c  X29g  X29t  X30a  X30c  X30g  X30t  240  \n891   ...     0     0     0     1     0     0     0     0     1    1  \n900   ...     0     1     0     0     0     0     0     0     1    1  \n2753  ...     0     0     1     0     0     0     0     0     1    2  \n1240  ...     0     0     1     0     0     0     0     0     1    1  \n1904  ...     0     1     0     0     0     0     0     1     0    2  \n...   ...   ...   ...   ...   ...   ...   ...   ...   ...   ...  ...  \n2844  ...     0     0     1     0     0     0     1     0     0    2  \n467   ...     0     0     0     0     1     0     0     1     0    0  \n1521  ...     0     0     0     0     1     0     0     1     0    1  \n1559  ...     0     0     0     1     0     0     0     0     1    2  \n2534  ...     1     0     0     0     1     0     0     1     0    2  \n\n[1595 rows x 241 columns]",
      "text/html": "<div>\n<style scoped>\n    .dataframe tbody tr th:only-of-type {\n        vertical-align: middle;\n    }\n\n    .dataframe tbody tr th {\n        vertical-align: top;\n    }\n\n    .dataframe thead th {\n        text-align: right;\n    }\n</style>\n<table border=\"1\" class=\"dataframe\">\n  <thead>\n    <tr style=\"text-align: right;\">\n      <th></th>\n      <th>X_30a</th>\n      <th>X_30c</th>\n      <th>X_30g</th>\n      <th>X_30t</th>\n      <th>X_29a</th>\n      <th>X_29c</th>\n      <th>X_29g</th>\n      <th>X_29t</th>\n      <th>X_28a</th>\n      <th>X_28c</th>\n      <th>...</th>\n      <th>X28t</th>\n      <th>X29a</th>\n      <th>X29c</th>\n      <th>X29g</th>\n      <th>X29t</th>\n      <th>X30a</th>\n      <th>X30c</th>\n      <th>X30g</th>\n      <th>X30t</th>\n      <th>240</th>\n    </tr>\n  </thead>\n  <tbody>\n    <tr>\n      <th>891</th>\n      <td>1</td>\n      <td>0</td>\n      <td>0</td>\n      <td>0</td>\n      <td>1</td>\n      <td>0</td>\n      <td>0</td>\n      <td>0</td>\n      <td>0</td>\n      <td>1</td>\n      <td>...</td>\n      <td>0</td>\n      <td>0</td>\n      <td>0</td>\n      <td>1</td>\n      <td>0</td>\n      <td>0</td>\n      <td>0</td>\n      <td>0</td>\n      <td>1</td>\n      <td>1</td>\n    </tr>\n    <tr>\n      <th>900</th>\n      <td>0</td>\n      <td>0</td>\n      <td>0</td>\n      <td>1</td>\n      <td>0</td>\n      <td>1</td>\n      <td>0</td>\n      <td>0</td>\n      <td>0</td>\n      <td>1</td>\n      <td>...</td>\n      <td>0</td>\n      <td>1</td>\n      <td>0</td>\n      <td>0</td>\n      <td>0</td>\n      <td>0</td>\n      <td>0</td>\n      <td>0</td>\n      <td>1</td>\n      <td>1</td>\n    </tr>\n    <tr>\n      <th>2753</th>\n      <td>0</td>\n      <td>0</td>\n      <td>0</td>\n      <td>1</td>\n      <td>0</td>\n      <td>0</td>\n      <td>1</td>\n      <td>0</td>\n      <td>0</td>\n      <td>0</td>\n      <td>...</td>\n      <td>0</td>\n      <td>0</td>\n      <td>1</td>\n      <td>0</td>\n      <td>0</td>\n      <td>0</td>\n      <td>0</td>\n      <td>0</td>\n      <td>1</td>\n      <td>2</td>\n    </tr>\n    <tr>\n      <th>1240</th>\n      <td>0</td>\n      <td>0</td>\n      <td>1</td>\n      <td>0</td>\n      <td>0</td>\n      <td>0</td>\n      <td>1</td>\n      <td>0</td>\n      <td>0</td>\n      <td>0</td>\n      <td>...</td>\n      <td>0</td>\n      <td>0</td>\n      <td>1</td>\n      <td>0</td>\n      <td>0</td>\n      <td>0</td>\n      <td>0</td>\n      <td>0</td>\n      <td>1</td>\n      <td>1</td>\n    </tr>\n    <tr>\n      <th>1904</th>\n      <td>0</td>\n      <td>1</td>\n      <td>0</td>\n      <td>0</td>\n      <td>1</td>\n      <td>0</td>\n      <td>0</td>\n      <td>0</td>\n      <td>0</td>\n      <td>0</td>\n      <td>...</td>\n      <td>0</td>\n      <td>1</td>\n      <td>0</td>\n      <td>0</td>\n      <td>0</td>\n      <td>0</td>\n      <td>0</td>\n      <td>1</td>\n      <td>0</td>\n      <td>2</td>\n    </tr>\n    <tr>\n      <th>...</th>\n      <td>...</td>\n      <td>...</td>\n      <td>...</td>\n      <td>...</td>\n      <td>...</td>\n      <td>...</td>\n      <td>...</td>\n      <td>...</td>\n      <td>...</td>\n      <td>...</td>\n      <td>...</td>\n      <td>...</td>\n      <td>...</td>\n      <td>...</td>\n      <td>...</td>\n      <td>...</td>\n      <td>...</td>\n      <td>...</td>\n      <td>...</td>\n      <td>...</td>\n      <td>...</td>\n    </tr>\n    <tr>\n      <th>2844</th>\n      <td>0</td>\n      <td>1</td>\n      <td>0</td>\n      <td>0</td>\n      <td>0</td>\n      <td>0</td>\n      <td>0</td>\n      <td>1</td>\n      <td>0</td>\n      <td>0</td>\n      <td>...</td>\n      <td>0</td>\n      <td>0</td>\n      <td>1</td>\n      <td>0</td>\n      <td>0</td>\n      <td>0</td>\n      <td>1</td>\n      <td>0</td>\n      <td>0</td>\n      <td>2</td>\n    </tr>\n    <tr>\n      <th>467</th>\n      <td>0</td>\n      <td>0</td>\n      <td>1</td>\n      <td>0</td>\n      <td>0</td>\n      <td>0</td>\n      <td>1</td>\n      <td>0</td>\n      <td>0</td>\n      <td>1</td>\n      <td>...</td>\n      <td>0</td>\n      <td>0</td>\n      <td>0</td>\n      <td>0</td>\n      <td>1</td>\n      <td>0</td>\n      <td>0</td>\n      <td>1</td>\n      <td>0</td>\n      <td>0</td>\n    </tr>\n    <tr>\n      <th>1521</th>\n      <td>1</td>\n      <td>0</td>\n      <td>0</td>\n      <td>0</td>\n      <td>0</td>\n      <td>0</td>\n      <td>0</td>\n      <td>1</td>\n      <td>0</td>\n      <td>0</td>\n      <td>...</td>\n      <td>0</td>\n      <td>0</td>\n      <td>0</td>\n      <td>0</td>\n      <td>1</td>\n      <td>0</td>\n      <td>0</td>\n      <td>1</td>\n      <td>0</td>\n      <td>1</td>\n    </tr>\n    <tr>\n      <th>1559</th>\n      <td>0</td>\n      <td>1</td>\n      <td>0</td>\n      <td>0</td>\n      <td>0</td>\n      <td>1</td>\n      <td>0</td>\n      <td>0</td>\n      <td>0</td>\n      <td>1</td>\n      <td>...</td>\n      <td>0</td>\n      <td>0</td>\n      <td>0</td>\n      <td>1</td>\n      <td>0</td>\n      <td>0</td>\n      <td>0</td>\n      <td>0</td>\n      <td>1</td>\n      <td>2</td>\n    </tr>\n    <tr>\n      <th>2534</th>\n      <td>0</td>\n      <td>0</td>\n      <td>0</td>\n      <td>1</td>\n      <td>0</td>\n      <td>0</td>\n      <td>0</td>\n      <td>1</td>\n      <td>0</td>\n      <td>1</td>\n      <td>...</td>\n      <td>1</td>\n      <td>0</td>\n      <td>0</td>\n      <td>0</td>\n      <td>1</td>\n      <td>0</td>\n      <td>0</td>\n      <td>1</td>\n      <td>0</td>\n      <td>2</td>\n    </tr>\n  </tbody>\n</table>\n<p>1595 rows × 241 columns</p>\n</div>"
     },
     "execution_count": 5,
     "metadata": {},
     "output_type": "execute_result"
    }
   ],
   "source": [
    "processed_dataset = SpliceJunction.get_processed_dataset(not_processed)\n",
    "train, test = train_test_split(processed_dataset, test_size=0.5, random_state=SEED, stratify=processed_dataset.iloc[:, -1])\n",
    "train"
   ],
   "metadata": {
    "collapsed": false
   }
  },
  {
   "cell_type": "markdown",
   "source": [
    "<a id='injection'></a>\n",
    "## Injection\n",
    "\n",
    "### Knowledge"
   ],
   "metadata": {
    "collapsed": false
   }
  },
  {
   "cell_type": "code",
   "execution_count": 6,
   "outputs": [],
   "source": [
    "knowledge = TuProlog.from_file(SPLICE_KNOWLEDGE_FILE)\n",
    "theory = Theory(knowledge, train, SpliceJunction.class_mapping)"
   ],
   "metadata": {
    "collapsed": false
   }
  },
  {
   "cell_type": "code",
   "execution_count": 7,
   "outputs": [
    {
     "name": "stdout",
     "output_type": "stream",
     "text": [
      "class\n",
      "ei_stop\n",
      "exon_intron\n",
      "ie_stop\n",
      "intron_exon\n",
      "m_of_n\n",
      "not_both_zero\n",
      "pyramidine_rich\n"
     ]
    }
   ],
   "source": [
    "for rule_name in sorted(set([rule.lhs.predication for rule in theory.formulae])):\n",
    "    print(rule_name)"
   ],
   "metadata": {
    "collapsed": false
   }
  },
  {
   "cell_type": "markdown",
   "source": [
    "We want to make some rules trainable.\n",
    "We decide to train:\n",
    "- `class`\n",
    "- `exon_intron`\n",
    "- `intron_exon`\n",
    "- `pyrimidine_rich`"
   ],
   "metadata": {
    "collapsed": false
   }
  },
  {
   "cell_type": "code",
   "execution_count": 8,
   "outputs": [],
   "source": [
    "# theory.set_all_formulae_trainable()\n",
    "theory.set_formulae_trainable(['class', 'exon_intron', 'intron_exon', 'pyrimidine_rich'])"
   ],
   "metadata": {
    "collapsed": false
   }
  },
  {
   "cell_type": "markdown",
   "source": [
    "### The actual injection is as simple as that"
   ],
   "metadata": {
    "collapsed": false
   }
  },
  {
   "cell_type": "code",
   "execution_count": 9,
   "outputs": [],
   "source": [
    "set_seed(SEED)\n",
    "# Here we create a fully-connected NN with one hidden layer of 10 neurons\n",
    "uneducated = create_uneducated_predictor(train.shape[1]-1, 3, [])\n",
    "injector = Injector.kbann(uneducated)\n",
    "educated = injector.inject(theory)"
   ],
   "metadata": {
    "collapsed": false
   }
  },
  {
   "cell_type": "code",
   "execution_count": 10,
   "outputs": [
    {
     "name": "stderr",
     "output_type": "stream",
     "text": [
      "2023-04-20 17:56:11.949529: W tensorflow/core/platform/profile_utils/cpu_utils.cc:128] Failed to get CPU frequency: 0 Hz\n"
     ]
    },
    {
     "name": "stdout",
     "output_type": "stream",
     "text": [
      "Epoch 1/100\n",
      "50/50 [==============================] - 10s 8ms/step - loss: 2.4951 - accuracy: 0.5636\n",
      "Epoch 2/100\n",
      "50/50 [==============================] - 0s 9ms/step - loss: 2.1917 - accuracy: 0.6163\n",
      "Epoch 3/100\n",
      "50/50 [==============================] - 1s 12ms/step - loss: 2.0600 - accuracy: 0.6226\n",
      "Epoch 4/100\n",
      "50/50 [==============================] - 1s 12ms/step - loss: 1.9440 - accuracy: 0.6232\n",
      "Epoch 5/100\n",
      "50/50 [==============================] - 1s 12ms/step - loss: 1.8361 - accuracy: 0.6232\n",
      "Epoch 6/100\n",
      "50/50 [==============================] - 1s 12ms/step - loss: 1.7341 - accuracy: 0.6238\n",
      "Epoch 7/100\n",
      "50/50 [==============================] - 1s 12ms/step - loss: 1.6367 - accuracy: 0.6257\n",
      "Epoch 8/100\n",
      "50/50 [==============================] - 1s 12ms/step - loss: 1.5445 - accuracy: 0.6307\n",
      "Epoch 9/100\n",
      "50/50 [==============================] - 1s 12ms/step - loss: 1.4572 - accuracy: 0.6401\n",
      "Epoch 10/100\n",
      "50/50 [==============================] - 1s 12ms/step - loss: 1.3724 - accuracy: 0.6445\n",
      "Epoch 11/100\n",
      "50/50 [==============================] - 1s 12ms/step - loss: 1.2922 - accuracy: 0.6646\n",
      "Epoch 12/100\n",
      "50/50 [==============================] - 1s 12ms/step - loss: 1.2164 - accuracy: 0.6934\n",
      "Epoch 13/100\n",
      "50/50 [==============================] - 1s 12ms/step - loss: 1.1446 - accuracy: 0.7116\n",
      "Epoch 14/100\n",
      "50/50 [==============================] - 1s 12ms/step - loss: 1.0785 - accuracy: 0.7116\n",
      "Epoch 15/100\n",
      "50/50 [==============================] - 1s 12ms/step - loss: 1.0168 - accuracy: 0.7116\n",
      "Epoch 16/100\n",
      "50/50 [==============================] - 1s 12ms/step - loss: 0.9596 - accuracy: 0.7116\n",
      "Epoch 17/100\n",
      "50/50 [==============================] - 1s 12ms/step - loss: 0.9057 - accuracy: 0.7141\n",
      "Epoch 18/100\n",
      "50/50 [==============================] - 1s 12ms/step - loss: 0.8551 - accuracy: 0.7197\n",
      "Epoch 19/100\n",
      "50/50 [==============================] - 1s 12ms/step - loss: 0.8070 - accuracy: 0.7404\n",
      "Epoch 20/100\n",
      "50/50 [==============================] - 1s 12ms/step - loss: 0.7625 - accuracy: 0.7429\n",
      "Epoch 21/100\n",
      "50/50 [==============================] - 1s 12ms/step - loss: 0.7210 - accuracy: 0.7574\n",
      "Epoch 22/100\n",
      "50/50 [==============================] - 1s 12ms/step - loss: 0.6833 - accuracy: 0.8069\n",
      "Epoch 23/100\n",
      "50/50 [==============================] - 1s 12ms/step - loss: 0.6480 - accuracy: 0.8382\n",
      "Epoch 24/100\n",
      "50/50 [==============================] - 1s 12ms/step - loss: 0.6150 - accuracy: 0.8514\n",
      "Epoch 25/100\n",
      "50/50 [==============================] - 1s 12ms/step - loss: 0.5845 - accuracy: 0.8552\n",
      "Epoch 26/100\n",
      "50/50 [==============================] - 1s 12ms/step - loss: 0.5566 - accuracy: 0.8552\n",
      "Epoch 27/100\n",
      "50/50 [==============================] - 1s 12ms/step - loss: 0.5299 - accuracy: 0.8552\n",
      "Epoch 28/100\n",
      "50/50 [==============================] - 1s 12ms/step - loss: 0.5050 - accuracy: 0.8552\n",
      "Epoch 29/100\n",
      "50/50 [==============================] - 1s 12ms/step - loss: 0.4814 - accuracy: 0.8552\n",
      "Epoch 30/100\n",
      "50/50 [==============================] - 1s 12ms/step - loss: 0.4592 - accuracy: 0.8564\n",
      "Epoch 31/100\n",
      "50/50 [==============================] - 1s 12ms/step - loss: 0.4377 - accuracy: 0.8571\n",
      "Epoch 32/100\n",
      "50/50 [==============================] - 1s 12ms/step - loss: 0.4174 - accuracy: 0.8596\n",
      "Epoch 33/100\n",
      "50/50 [==============================] - 1s 12ms/step - loss: 0.3981 - accuracy: 0.8627\n",
      "Epoch 34/100\n",
      "50/50 [==============================] - 1s 12ms/step - loss: 0.3797 - accuracy: 0.8740\n",
      "Epoch 35/100\n",
      "50/50 [==============================] - 1s 12ms/step - loss: 0.3628 - accuracy: 0.8978\n",
      "Epoch 36/100\n",
      "50/50 [==============================] - 1s 12ms/step - loss: 0.3468 - accuracy: 0.9185\n",
      "Epoch 37/100\n",
      "50/50 [==============================] - 1s 12ms/step - loss: 0.3319 - accuracy: 0.9248\n",
      "Epoch 38/100\n",
      "50/50 [==============================] - 1s 12ms/step - loss: 0.3186 - accuracy: 0.9260\n",
      "Epoch 39/100\n",
      "50/50 [==============================] - 1s 12ms/step - loss: 0.3063 - accuracy: 0.9279\n",
      "Epoch 40/100\n",
      "50/50 [==============================] - 1s 12ms/step - loss: 0.2953 - accuracy: 0.9310\n",
      "Epoch 41/100\n",
      "50/50 [==============================] - 1s 12ms/step - loss: 0.2858 - accuracy: 0.9411\n",
      "Epoch 42/100\n",
      "50/50 [==============================] - 1s 12ms/step - loss: 0.2770 - accuracy: 0.9467\n",
      "Epoch 43/100\n",
      "50/50 [==============================] - 1s 12ms/step - loss: 0.2692 - accuracy: 0.9511\n",
      "Epoch 44/100\n",
      "50/50 [==============================] - 1s 12ms/step - loss: 0.2625 - accuracy: 0.9536\n",
      "Epoch 45/100\n",
      "50/50 [==============================] - 1s 12ms/step - loss: 0.2566 - accuracy: 0.9542\n",
      "Epoch 46/100\n",
      "50/50 [==============================] - 1s 12ms/step - loss: 0.2510 - accuracy: 0.9549\n",
      "Epoch 47/100\n",
      "50/50 [==============================] - 1s 12ms/step - loss: 0.2480 - accuracy: 0.9561\n",
      "Epoch 48/100\n",
      "50/50 [==============================] - 1s 12ms/step - loss: 0.2435 - accuracy: 0.9567\n",
      "Epoch 49/100\n",
      "50/50 [==============================] - 1s 12ms/step - loss: 0.2382 - accuracy: 0.9580\n",
      "Epoch 50/100\n",
      "50/50 [==============================] - 1s 12ms/step - loss: 0.2347 - accuracy: 0.9580\n",
      "Epoch 51/100\n",
      "50/50 [==============================] - 1s 12ms/step - loss: 0.2315 - accuracy: 0.9580\n",
      "Epoch 52/100\n",
      "50/50 [==============================] - 1s 12ms/step - loss: 0.2288 - accuracy: 0.9586\n",
      "Epoch 53/100\n",
      "50/50 [==============================] - 1s 12ms/step - loss: 0.2261 - accuracy: 0.9586\n",
      "Epoch 54/100\n",
      "50/50 [==============================] - 1s 12ms/step - loss: 0.2236 - accuracy: 0.9586\n",
      "Epoch 55/100\n",
      "50/50 [==============================] - 1s 12ms/step - loss: 0.2214 - accuracy: 0.9586\n",
      "Epoch 56/100\n",
      "50/50 [==============================] - 1s 12ms/step - loss: 0.2193 - accuracy: 0.9580\n",
      "Epoch 57/100\n",
      "50/50 [==============================] - 1s 12ms/step - loss: 0.2172 - accuracy: 0.9580\n",
      "Epoch 58/100\n",
      "50/50 [==============================] - 1s 12ms/step - loss: 0.2151 - accuracy: 0.9580\n",
      "Epoch 59/100\n",
      "50/50 [==============================] - 1s 12ms/step - loss: 0.2131 - accuracy: 0.9580\n",
      "Epoch 60/100\n",
      "50/50 [==============================] - 1s 12ms/step - loss: 0.2112 - accuracy: 0.9574\n",
      "Epoch 61/100\n",
      "50/50 [==============================] - 1s 12ms/step - loss: 0.2094 - accuracy: 0.9574\n",
      "Epoch 62/100\n",
      "50/50 [==============================] - 1s 12ms/step - loss: 0.2078 - accuracy: 0.9574\n",
      "Epoch 63/100\n",
      "50/50 [==============================] - 1s 12ms/step - loss: 0.2060 - accuracy: 0.9574\n",
      "Epoch 64/100\n",
      "50/50 [==============================] - 1s 12ms/step - loss: 0.2044 - accuracy: 0.9574\n",
      "Epoch 65/100\n",
      "50/50 [==============================] - 1s 12ms/step - loss: 0.2014 - accuracy: 0.9580\n",
      "Epoch 66/100\n",
      "50/50 [==============================] - 1s 12ms/step - loss: 0.1998 - accuracy: 0.9580\n",
      "Epoch 67/100\n",
      "50/50 [==============================] - 1s 12ms/step - loss: 0.1983 - accuracy: 0.9580\n",
      "Epoch 68/100\n",
      "50/50 [==============================] - 1s 14ms/step - loss: 0.1967 - accuracy: 0.9580\n",
      "Epoch 69/100\n",
      "50/50 [==============================] - 1s 15ms/step - loss: 0.1952 - accuracy: 0.9580\n",
      "Epoch 70/100\n",
      "50/50 [==============================] - 1s 12ms/step - loss: 0.1937 - accuracy: 0.9580\n",
      "Epoch 71/100\n",
      "50/50 [==============================] - 1s 12ms/step - loss: 0.1921 - accuracy: 0.9580\n",
      "Epoch 72/100\n",
      "50/50 [==============================] - 1s 12ms/step - loss: 0.1907 - accuracy: 0.9580\n",
      "Epoch 73/100\n",
      "50/50 [==============================] - 1s 12ms/step - loss: 0.1892 - accuracy: 0.9580\n",
      "Epoch 74/100\n",
      "50/50 [==============================] - 1s 12ms/step - loss: 0.1877 - accuracy: 0.9580\n",
      "Epoch 75/100\n",
      "50/50 [==============================] - 1s 12ms/step - loss: 0.1865 - accuracy: 0.9580\n",
      "Epoch 76/100\n",
      "50/50 [==============================] - 1s 12ms/step - loss: 0.1850 - accuracy: 0.9580\n",
      "Epoch 77/100\n",
      "50/50 [==============================] - 1s 12ms/step - loss: 0.1834 - accuracy: 0.9580\n",
      "Epoch 78/100\n",
      "50/50 [==============================] - 1s 12ms/step - loss: 0.1818 - accuracy: 0.9580\n",
      "Epoch 79/100\n",
      "50/50 [==============================] - 1s 12ms/step - loss: 0.1800 - accuracy: 0.9599\n",
      "Epoch 80/100\n",
      "50/50 [==============================] - 1s 12ms/step - loss: 0.1784 - accuracy: 0.9599\n",
      "Epoch 81/100\n",
      "50/50 [==============================] - 1s 12ms/step - loss: 0.1771 - accuracy: 0.9592\n",
      "Epoch 82/100\n",
      "50/50 [==============================] - 1s 12ms/step - loss: 0.1755 - accuracy: 0.9592\n",
      "Epoch 83/100\n",
      "50/50 [==============================] - 1s 12ms/step - loss: 0.1748 - accuracy: 0.9592\n",
      "Epoch 84/100\n",
      "50/50 [==============================] - 1s 12ms/step - loss: 0.1733 - accuracy: 0.9592\n",
      "Epoch 85/100\n",
      "50/50 [==============================] - 1s 12ms/step - loss: 0.1720 - accuracy: 0.9592\n",
      "Epoch 86/100\n",
      "50/50 [==============================] - 1s 12ms/step - loss: 0.1706 - accuracy: 0.9592\n",
      "Epoch 87/100\n",
      "50/50 [==============================] - 1s 12ms/step - loss: 0.1691 - accuracy: 0.9592\n",
      "Epoch 88/100\n",
      "50/50 [==============================] - 1s 12ms/step - loss: 0.1674 - accuracy: 0.9574\n",
      "Epoch 89/100\n",
      "50/50 [==============================] - 1s 12ms/step - loss: 0.1659 - accuracy: 0.9574\n",
      "Epoch 90/100\n",
      "50/50 [==============================] - 1s 12ms/step - loss: 0.1649 - accuracy: 0.9574\n",
      "Epoch 91/100\n",
      "50/50 [==============================] - 1s 12ms/step - loss: 0.1636 - accuracy: 0.9561\n",
      "Epoch 92/100\n",
      "50/50 [==============================] - 1s 12ms/step - loss: 0.1620 - accuracy: 0.9555\n",
      "Epoch 93/100\n",
      "50/50 [==============================] - 1s 12ms/step - loss: 0.1607 - accuracy: 0.9555\n",
      "Epoch 94/100\n",
      "50/50 [==============================] - 1s 12ms/step - loss: 0.1594 - accuracy: 0.9555\n",
      "Epoch 95/100\n",
      "50/50 [==============================] - 1s 12ms/step - loss: 0.1580 - accuracy: 0.9555\n",
      "Epoch 96/100\n",
      "50/50 [==============================] - 1s 12ms/step - loss: 0.1567 - accuracy: 0.9555\n",
      "Epoch 97/100\n",
      "50/50 [==============================] - 1s 12ms/step - loss: 0.1554 - accuracy: 0.9549\n",
      "Epoch 98/100\n",
      "50/50 [==============================] - 1s 12ms/step - loss: 0.1538 - accuracy: 0.9542\n",
      "Epoch 99/100\n",
      "50/50 [==============================] - 1s 12ms/step - loss: 0.1526 - accuracy: 0.9542\n",
      "Epoch 100/100\n",
      "50/50 [==============================] - 1s 12ms/step - loss: 0.1514 - accuracy: 0.9542\n"
     ]
    }
   ],
   "source": [
    "educated.compile(optimizer='adam', loss='categorical_crossentropy', metrics='accuracy')\n",
    "history_educated = educated.fit(train.iloc[:, :-1], to_categorical(train.iloc[:, -1]), epochs=EPOCHS, batch_size=BATCH_SIZE, verbose=VERBOSE)"
   ],
   "metadata": {
    "collapsed": false
   }
  },
  {
   "cell_type": "code",
   "execution_count": 11,
   "outputs": [
    {
     "name": "stdout",
     "output_type": "stream",
     "text": [
      "50/50 [==============================] - 2s 4ms/step - loss: 0.2241 - accuracy: 0.9273\n",
      "test set accuracy of the educated predictor: 92.73%\n"
     ]
    }
   ],
   "source": [
    "_, acc = educated.evaluate(test.iloc[:, :-1], to_categorical(test.iloc[:, -1]))\n",
    "print(f'test set accuracy of the educated predictor: {acc*100:.2f}%')"
   ],
   "metadata": {
    "collapsed": false
   }
  }
 ],
 "metadata": {
  "kernelspec": {
   "display_name": "Python 3",
   "language": "python",
   "name": "python3"
  },
  "language_info": {
   "codemirror_mode": {
    "name": "ipython",
    "version": 2
   },
   "file_extension": ".py",
   "mimetype": "text/x-python",
   "name": "python",
   "nbconvert_exporter": "python",
   "pygments_lexer": "ipython2",
   "version": "2.7.6"
  }
 },
 "nbformat": 4,
 "nbformat_minor": 0
}
