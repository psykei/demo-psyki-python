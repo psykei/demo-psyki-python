{
 "cells": [
  {
   "cell_type": "markdown",
   "source": [
    "# Working demonstration of KINS injector using the Census Income dataset\n",
    "\n",
    "Notebook organisation:\n",
    "1. [**imports and utility functions**](#imports)\n",
    "2. [**dataset description, analysis and preprocessing**](#dataset-description,-analysis-and-preprocessing)\n",
    "3. [**injection**](#injection) (if you are interested only in the injection mechanism skip the other parts)\n",
    "4. [**training and evaluation**](#training-and-evaluation)\n",
    "\n",
    "Note: Internet connection is required to download the dataset.\n",
    "If the files of the Census Income dataset are in folder `data` Internet connection is not required."
   ],
   "metadata": {
    "collapsed": false
   }
  },
  {
   "cell_type": "markdown",
   "source": [
    "<a id='imports'></a>\n",
    "## Imports and utility functions\n",
    "\n",
    "Some necessary imports:\n",
    "- __re__ for regex operations\n",
    "- __os__ to use other resources in this repository\n",
    "- __pandas__ for data retrieval and statistics\n",
    "- __tensorflow__ for neural networks\n",
    "- __psyki__ for symbolic knowledge injection\n",
    "- __typing__ for better quality"
   ],
   "metadata": {
    "collapsed": false
   }
  },
  {
   "cell_type": "code",
   "execution_count": 1,
   "outputs": [],
   "source": [
    "import os\n",
    "from sklearn.model_selection import train_test_split\n",
    "import pandas as pd\n",
    "from tensorflow.keras.models import Model\n",
    "from tensorflow.keras.layers import Input, Dense\n",
    "from tensorflow.python.framework.random_seed import set_seed\n",
    "from psyki.logic import Theory\n",
    "from psyki.logic.prolog import TuProlog\n",
    "from typing import Callable\n",
    "from psyki.ski import Injector\n",
    "\n",
    "os.getcwd()\n",
    "from knowledge import PATH as KNOWLEDGE_PATH\n",
    "from data import SpliceJunction"
   ],
   "metadata": {
    "collapsed": false
   }
  },
  {
   "cell_type": "code",
   "execution_count": 2,
   "outputs": [],
   "source": [
    "SPLICE_KNOWLEDGE_FILE = str(KNOWLEDGE_PATH / SpliceJunction.knowledge_file_name)\n",
    "\n",
    "# Training parameters\n",
    "\n",
    "SEED = 0\n",
    "EPOCHS = 20\n",
    "BATCH_SIZE = 32\n",
    "VERBOSE = 1"
   ],
   "metadata": {
    "collapsed": false
   }
  },
  {
   "cell_type": "markdown",
   "source": [
    "## Dataset description, analysis and preprocessing\n",
    "(If you are interested only in the injection part you can skip this section)"
   ],
   "metadata": {
    "collapsed": false
   }
  },
  {
   "cell_type": "markdown",
   "source": [
    "Download (if not already present) train and test set.\n",
    "The dataset contains a sequence of 60 nucleotides and a label.\n",
    "The label can be:\n",
    "- __ei__: Exon-intron boundary, parts of the DNA sequence that are retained after splicing (donors);\n",
    "- __ie__: Intron-exon boundary, parts of the DNA sequence that are spliced out (acceptors);\n",
    "- __n__: Non-splicing boundary, parts of the DNA sequence that are neither retained nor spliced out."
   ],
   "metadata": {
    "collapsed": false
   }
  },
  {
   "cell_type": "code",
   "execution_count": 3,
   "outputs": [],
   "source": [
    "not_processed = SpliceJunction.get_train()"
   ],
   "metadata": {
    "collapsed": false
   }
  },
  {
   "cell_type": "markdown",
   "source": [
    "A first look at the dataset:\n",
    "- 3190 samples in total, 2552 in the training set and 638 in the test set;\n",
    "- There are three columns, the first one is the label, the second one is the identifier of the sample and the third one is the sequence;\n",
    "- Classes are reparted as follows:\n",
    "    - ei: 768\n",
    "    - ie: 767\n",
    "    - n: 1655"
   ],
   "metadata": {
    "collapsed": false
   }
  },
  {
   "cell_type": "code",
   "execution_count": 4,
   "outputs": [
    {
     "data": {
      "text/plain": "       0                   1  \\\n0     EI    ATRINS-DONOR-521   \n1     EI    ATRINS-DONOR-905   \n2     EI    BABAPOE-DONOR-30   \n3     EI   BABAPOE-DONOR-867   \n4     EI  BABAPOE-DONOR-2817   \n...   ..                 ...   \n3185   N  ORAHBPSBD-NEG-2881   \n3186   N   ORAINVOL-NEG-2161   \n3187   N     ORARGIT-NEG-241   \n3188   N      TARHBB-NEG-541   \n3189   N     TARHBD-NEG-1981   \n\n                                                      2  \n0     CCAGCTGCATCACAGGAGGCCAGCGAGCAGGTCTGTTCCAAGGGCC...  \n1     AGACCCGCCGGGAGGCGGAGGACCTGCAGGGTGAGCCCCACCGCCC...  \n2     GAGGTGAAGGACGTCCTTCCCCAGGAGCCGGTGAGAAGCGCAGTCG...  \n3     GGGCTGCGTTGCTGGTCACATTCCTGGCAGGTATGGGGCGGGGCTT...  \n4     GCTCAGCCCCCAGGTCACCCAGGAACTGACGTGAGTGTCCCCATCC...  \n...                                                 ...  \n3185  TCTCTTCCCTTCCCCTCTCTCTTTCTTTCTTTTCTCTCCTCTTCTC...  \n3186  GAGCTCCCAGAGCAGCAAGAGGGCCAGCTGAAGCACCTGGAGAAGC...  \n3187  TCTCGGGGGCGGCCGGCGCGGCGGGGAGCGGTCCCCGGCCGCGGCC...  \n3188  ATTCTACTTAGTAAACATAATTTCTTGTGCTAGATAACCAAATTAA...  \n3189  AGGCTGCCTATCAGAAGGTGGTGGCTGGTGTGGCTGCTGCTCTGGC...  \n\n[3190 rows x 3 columns]",
      "text/html": "<div>\n<style scoped>\n    .dataframe tbody tr th:only-of-type {\n        vertical-align: middle;\n    }\n\n    .dataframe tbody tr th {\n        vertical-align: top;\n    }\n\n    .dataframe thead th {\n        text-align: right;\n    }\n</style>\n<table border=\"1\" class=\"dataframe\">\n  <thead>\n    <tr style=\"text-align: right;\">\n      <th></th>\n      <th>0</th>\n      <th>1</th>\n      <th>2</th>\n    </tr>\n  </thead>\n  <tbody>\n    <tr>\n      <th>0</th>\n      <td>EI</td>\n      <td>ATRINS-DONOR-521</td>\n      <td>CCAGCTGCATCACAGGAGGCCAGCGAGCAGGTCTGTTCCAAGGGCC...</td>\n    </tr>\n    <tr>\n      <th>1</th>\n      <td>EI</td>\n      <td>ATRINS-DONOR-905</td>\n      <td>AGACCCGCCGGGAGGCGGAGGACCTGCAGGGTGAGCCCCACCGCCC...</td>\n    </tr>\n    <tr>\n      <th>2</th>\n      <td>EI</td>\n      <td>BABAPOE-DONOR-30</td>\n      <td>GAGGTGAAGGACGTCCTTCCCCAGGAGCCGGTGAGAAGCGCAGTCG...</td>\n    </tr>\n    <tr>\n      <th>3</th>\n      <td>EI</td>\n      <td>BABAPOE-DONOR-867</td>\n      <td>GGGCTGCGTTGCTGGTCACATTCCTGGCAGGTATGGGGCGGGGCTT...</td>\n    </tr>\n    <tr>\n      <th>4</th>\n      <td>EI</td>\n      <td>BABAPOE-DONOR-2817</td>\n      <td>GCTCAGCCCCCAGGTCACCCAGGAACTGACGTGAGTGTCCCCATCC...</td>\n    </tr>\n    <tr>\n      <th>...</th>\n      <td>...</td>\n      <td>...</td>\n      <td>...</td>\n    </tr>\n    <tr>\n      <th>3185</th>\n      <td>N</td>\n      <td>ORAHBPSBD-NEG-2881</td>\n      <td>TCTCTTCCCTTCCCCTCTCTCTTTCTTTCTTTTCTCTCCTCTTCTC...</td>\n    </tr>\n    <tr>\n      <th>3186</th>\n      <td>N</td>\n      <td>ORAINVOL-NEG-2161</td>\n      <td>GAGCTCCCAGAGCAGCAAGAGGGCCAGCTGAAGCACCTGGAGAAGC...</td>\n    </tr>\n    <tr>\n      <th>3187</th>\n      <td>N</td>\n      <td>ORARGIT-NEG-241</td>\n      <td>TCTCGGGGGCGGCCGGCGCGGCGGGGAGCGGTCCCCGGCCGCGGCC...</td>\n    </tr>\n    <tr>\n      <th>3188</th>\n      <td>N</td>\n      <td>TARHBB-NEG-541</td>\n      <td>ATTCTACTTAGTAAACATAATTTCTTGTGCTAGATAACCAAATTAA...</td>\n    </tr>\n    <tr>\n      <th>3189</th>\n      <td>N</td>\n      <td>TARHBD-NEG-1981</td>\n      <td>AGGCTGCCTATCAGAAGGTGGTGGCTGGTGTGGCTGCTGCTCTGGC...</td>\n    </tr>\n  </tbody>\n</table>\n<p>3190 rows × 3 columns</p>\n</div>"
     },
     "execution_count": 4,
     "metadata": {},
     "output_type": "execute_result"
    }
   ],
   "source": [
    "not_processed"
   ],
   "metadata": {
    "collapsed": false
   }
  },
  {
   "cell_type": "markdown",
   "source": [
    "### Data preprocessing\n",
    "\n",
    "- we discard columns 1 and create 60 new features from column 2;\n",
    "- we then expand the 60 features into **4 x 60 = 240** new features. We basically create 4 new features for each of the 60 nucleotides. Each of the 4 new features is a binary feature that is 1 if the nucleotide is A, C, G or T respectively (multi-hot encoding). This is done because there are other symbols other than A, C, G and T in the dataset (e.g., the symbol M is used to represent a nucleotide that can be both A or C)."
   ],
   "metadata": {
    "collapsed": false
   }
  },
  {
   "cell_type": "code",
   "execution_count": 5,
   "outputs": [
    {
     "data": {
      "text/plain": "      X_30a  X_30c  X_30g  X_30t  X_29a  X_29c  X_29g  X_29t  X_28a  X_28c  \\\n2165      0      0      1      0      0      0      0      1      1      0   \n1665      0      0      0      1      0      1      0      0      1      0   \n2559      0      1      0      0      0      0      0      1      0      0   \n1452      0      1      0      0      0      1      0      0      1      0   \n1037      0      0      1      0      0      0      0      1      0      0   \n...     ...    ...    ...    ...    ...    ...    ...    ...    ...    ...   \n467       0      0      1      0      0      0      1      0      0      1   \n1948      0      1      0      0      0      1      0      0      1      0   \n2938      1      0      0      0      0      0      1      0      0      0   \n3099      0      0      1      0      0      1      0      0      0      0   \n2788      0      0      1      0      1      0      0      0      1      0   \n\n      ...  X28t  X29a  X29c  X29g  X29t  X30a  X30c  X30g  X30t  240  \n2165  ...     1     1     0     0     0     0     0     1     0    n  \n1665  ...     0     0     0     1     0     0     0     1     0    n  \n2559  ...     0     0     1     0     0     0     1     0     0    n  \n1452  ...     0     0     1     0     0     0     0     0     1   ie  \n1037  ...     0     1     0     0     0     0     0     1     0   ie  \n...   ...   ...   ...   ...   ...   ...   ...   ...   ...   ...  ...  \n467   ...     0     0     0     0     1     0     0     1     0   ei  \n1948  ...     0     1     0     0     0     1     0     0     0    n  \n2938  ...     0     1     0     0     0     0     0     1     0    n  \n3099  ...     0     1     0     0     0     0     0     1     0    n  \n2788  ...     0     1     0     0     0     0     1     0     0    n  \n\n[2552 rows x 241 columns]",
      "text/html": "<div>\n<style scoped>\n    .dataframe tbody tr th:only-of-type {\n        vertical-align: middle;\n    }\n\n    .dataframe tbody tr th {\n        vertical-align: top;\n    }\n\n    .dataframe thead th {\n        text-align: right;\n    }\n</style>\n<table border=\"1\" class=\"dataframe\">\n  <thead>\n    <tr style=\"text-align: right;\">\n      <th></th>\n      <th>X_30a</th>\n      <th>X_30c</th>\n      <th>X_30g</th>\n      <th>X_30t</th>\n      <th>X_29a</th>\n      <th>X_29c</th>\n      <th>X_29g</th>\n      <th>X_29t</th>\n      <th>X_28a</th>\n      <th>X_28c</th>\n      <th>...</th>\n      <th>X28t</th>\n      <th>X29a</th>\n      <th>X29c</th>\n      <th>X29g</th>\n      <th>X29t</th>\n      <th>X30a</th>\n      <th>X30c</th>\n      <th>X30g</th>\n      <th>X30t</th>\n      <th>240</th>\n    </tr>\n  </thead>\n  <tbody>\n    <tr>\n      <th>2165</th>\n      <td>0</td>\n      <td>0</td>\n      <td>1</td>\n      <td>0</td>\n      <td>0</td>\n      <td>0</td>\n      <td>0</td>\n      <td>1</td>\n      <td>1</td>\n      <td>0</td>\n      <td>...</td>\n      <td>1</td>\n      <td>1</td>\n      <td>0</td>\n      <td>0</td>\n      <td>0</td>\n      <td>0</td>\n      <td>0</td>\n      <td>1</td>\n      <td>0</td>\n      <td>n</td>\n    </tr>\n    <tr>\n      <th>1665</th>\n      <td>0</td>\n      <td>0</td>\n      <td>0</td>\n      <td>1</td>\n      <td>0</td>\n      <td>1</td>\n      <td>0</td>\n      <td>0</td>\n      <td>1</td>\n      <td>0</td>\n      <td>...</td>\n      <td>0</td>\n      <td>0</td>\n      <td>0</td>\n      <td>1</td>\n      <td>0</td>\n      <td>0</td>\n      <td>0</td>\n      <td>1</td>\n      <td>0</td>\n      <td>n</td>\n    </tr>\n    <tr>\n      <th>2559</th>\n      <td>0</td>\n      <td>1</td>\n      <td>0</td>\n      <td>0</td>\n      <td>0</td>\n      <td>0</td>\n      <td>0</td>\n      <td>1</td>\n      <td>0</td>\n      <td>0</td>\n      <td>...</td>\n      <td>0</td>\n      <td>0</td>\n      <td>1</td>\n      <td>0</td>\n      <td>0</td>\n      <td>0</td>\n      <td>1</td>\n      <td>0</td>\n      <td>0</td>\n      <td>n</td>\n    </tr>\n    <tr>\n      <th>1452</th>\n      <td>0</td>\n      <td>1</td>\n      <td>0</td>\n      <td>0</td>\n      <td>0</td>\n      <td>1</td>\n      <td>0</td>\n      <td>0</td>\n      <td>1</td>\n      <td>0</td>\n      <td>...</td>\n      <td>0</td>\n      <td>0</td>\n      <td>1</td>\n      <td>0</td>\n      <td>0</td>\n      <td>0</td>\n      <td>0</td>\n      <td>0</td>\n      <td>1</td>\n      <td>ie</td>\n    </tr>\n    <tr>\n      <th>1037</th>\n      <td>0</td>\n      <td>0</td>\n      <td>1</td>\n      <td>0</td>\n      <td>0</td>\n      <td>0</td>\n      <td>0</td>\n      <td>1</td>\n      <td>0</td>\n      <td>0</td>\n      <td>...</td>\n      <td>0</td>\n      <td>1</td>\n      <td>0</td>\n      <td>0</td>\n      <td>0</td>\n      <td>0</td>\n      <td>0</td>\n      <td>1</td>\n      <td>0</td>\n      <td>ie</td>\n    </tr>\n    <tr>\n      <th>...</th>\n      <td>...</td>\n      <td>...</td>\n      <td>...</td>\n      <td>...</td>\n      <td>...</td>\n      <td>...</td>\n      <td>...</td>\n      <td>...</td>\n      <td>...</td>\n      <td>...</td>\n      <td>...</td>\n      <td>...</td>\n      <td>...</td>\n      <td>...</td>\n      <td>...</td>\n      <td>...</td>\n      <td>...</td>\n      <td>...</td>\n      <td>...</td>\n      <td>...</td>\n      <td>...</td>\n    </tr>\n    <tr>\n      <th>467</th>\n      <td>0</td>\n      <td>0</td>\n      <td>1</td>\n      <td>0</td>\n      <td>0</td>\n      <td>0</td>\n      <td>1</td>\n      <td>0</td>\n      <td>0</td>\n      <td>1</td>\n      <td>...</td>\n      <td>0</td>\n      <td>0</td>\n      <td>0</td>\n      <td>0</td>\n      <td>1</td>\n      <td>0</td>\n      <td>0</td>\n      <td>1</td>\n      <td>0</td>\n      <td>ei</td>\n    </tr>\n    <tr>\n      <th>1948</th>\n      <td>0</td>\n      <td>1</td>\n      <td>0</td>\n      <td>0</td>\n      <td>0</td>\n      <td>1</td>\n      <td>0</td>\n      <td>0</td>\n      <td>1</td>\n      <td>0</td>\n      <td>...</td>\n      <td>0</td>\n      <td>1</td>\n      <td>0</td>\n      <td>0</td>\n      <td>0</td>\n      <td>1</td>\n      <td>0</td>\n      <td>0</td>\n      <td>0</td>\n      <td>n</td>\n    </tr>\n    <tr>\n      <th>2938</th>\n      <td>1</td>\n      <td>0</td>\n      <td>0</td>\n      <td>0</td>\n      <td>0</td>\n      <td>0</td>\n      <td>1</td>\n      <td>0</td>\n      <td>0</td>\n      <td>0</td>\n      <td>...</td>\n      <td>0</td>\n      <td>1</td>\n      <td>0</td>\n      <td>0</td>\n      <td>0</td>\n      <td>0</td>\n      <td>0</td>\n      <td>1</td>\n      <td>0</td>\n      <td>n</td>\n    </tr>\n    <tr>\n      <th>3099</th>\n      <td>0</td>\n      <td>0</td>\n      <td>1</td>\n      <td>0</td>\n      <td>0</td>\n      <td>1</td>\n      <td>0</td>\n      <td>0</td>\n      <td>0</td>\n      <td>0</td>\n      <td>...</td>\n      <td>0</td>\n      <td>1</td>\n      <td>0</td>\n      <td>0</td>\n      <td>0</td>\n      <td>0</td>\n      <td>0</td>\n      <td>1</td>\n      <td>0</td>\n      <td>n</td>\n    </tr>\n    <tr>\n      <th>2788</th>\n      <td>0</td>\n      <td>0</td>\n      <td>1</td>\n      <td>0</td>\n      <td>1</td>\n      <td>0</td>\n      <td>0</td>\n      <td>0</td>\n      <td>1</td>\n      <td>0</td>\n      <td>...</td>\n      <td>0</td>\n      <td>1</td>\n      <td>0</td>\n      <td>0</td>\n      <td>0</td>\n      <td>0</td>\n      <td>1</td>\n      <td>0</td>\n      <td>0</td>\n      <td>n</td>\n    </tr>\n  </tbody>\n</table>\n<p>2552 rows × 241 columns</p>\n</div>"
     },
     "execution_count": 5,
     "metadata": {},
     "output_type": "execute_result"
    }
   ],
   "source": [
    "processed_dataset = SpliceJunction.get_processed_dataset(not_processed)\n",
    "train, test = train_test_split(processed_dataset, test_size=0.2, random_state=SEED, stratify=processed_dataset.iloc[:, -1])\n",
    "train"
   ],
   "metadata": {
    "collapsed": false
   }
  },
  {
   "cell_type": "markdown",
   "source": [
    "<a id='injection'></a>\n",
    "## Injection\n",
    "\n",
    "### Knowledge"
   ],
   "metadata": {
    "collapsed": false
   }
  },
  {
   "cell_type": "code",
   "execution_count": 6,
   "outputs": [],
   "source": [
    "knowledge = TuProlog.from_file(SPLICE_KNOWLEDGE_FILE)\n",
    "theory = Theory(knowledge, train)"
   ],
   "metadata": {
    "collapsed": false
   }
  },
  {
   "cell_type": "code",
   "execution_count": 7,
   "outputs": [
    {
     "name": "stdout",
     "output_type": "stream",
     "text": [
      "class\n",
      "ei_stop\n",
      "exon_intron\n",
      "ie_stop\n",
      "intron_exon\n",
      "m_of_n\n",
      "not_both_zero\n",
      "pyramidine_rich\n"
     ]
    }
   ],
   "source": [
    "for rule_name in sorted(set([rule.lhs.predication for rule in theory.formulae])):\n",
    "    print(rule_name)"
   ],
   "metadata": {
    "collapsed": false
   }
  },
  {
   "cell_type": "markdown",
   "source": [
    "We want to make some rules trainable.\n",
    "We decide to train:\n",
    "- `class`\n",
    "- `exon_intron`\n",
    "- `intron_exon`\n",
    "- `pyrimidine_rich`"
   ],
   "metadata": {
    "collapsed": false
   }
  },
  {
   "cell_type": "code",
   "execution_count": 8,
   "outputs": [],
   "source": [
    "theory.set_formulae_trainable(['class', 'exon_intron', 'intron_exon', 'pyrimidine_rich'])"
   ],
   "metadata": {
    "collapsed": false
   }
  },
  {
   "cell_type": "code",
   "execution_count": 8,
   "outputs": [],
   "source": [],
   "metadata": {
    "collapsed": false
   }
  }
 ],
 "metadata": {
  "kernelspec": {
   "display_name": "Python 3",
   "language": "python",
   "name": "python3"
  },
  "language_info": {
   "codemirror_mode": {
    "name": "ipython",
    "version": 2
   },
   "file_extension": ".py",
   "mimetype": "text/x-python",
   "name": "python",
   "nbconvert_exporter": "python",
   "pygments_lexer": "ipython2",
   "version": "2.7.6"
  }
 },
 "nbformat": 4,
 "nbformat_minor": 0
}
