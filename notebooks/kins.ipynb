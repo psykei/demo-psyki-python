{
 "cells": [
  {
   "cell_type": "markdown",
   "metadata": {},
   "source": [
    "# Working demonstration of KINS injector using the Census Income dataset\n",
    "\n",
    "Notebook organisation:\n",
    "1. [**imports and utility functions**](#imports)\n",
    "2. [**dataset description, analysis and preprocessing**](#dataset-description,-analysis-and-preprocessing)\n",
    "3. [**injection**](#injection) (if you are interested only in the injection mechanism skip the other parts)\n",
    "4. [**training and evaluation**](#training-and-evaluation)\n",
    "\n",
    "Note: Internet connection is required to download the dataset.\n",
    "If the files of the Census Income dataset are in folder `data` Internet connection is not required."
   ]
  },
  {
   "cell_type": "markdown",
   "metadata": {},
   "source": [
    "<a id='imports'></a>\n",
    "## Imports and utility functions\n",
    "\n",
    "Some necessary imports:\n",
    "- __os__ to use other resources in this repository\n",
    "- __pandas__ for data retrieval and statistics\n",
    "- __tensorflow__ for reproducibility of neural networks training\n",
    "- __psyki__ for symbolic knowledge injection"
   ]
  },
  {
   "cell_type": "code",
   "execution_count": 1,
   "metadata": {
    "collapsed": true
   },
   "outputs": [],
   "source": [
    "import os\n",
    "import pandas as pd\n",
    "from tensorflow.python.framework.random_seed import set_seed\n",
    "from psyki.logic import Theory\n",
    "from psyki.logic.prolog import TuProlog\n",
    "from psyki.ski import Injector\n",
    "\n",
    "os.getcwd()\n",
    "from knowledge import PATH as KNOWLEDGE_PATH\n",
    "from data import CensusIncome\n",
    "from utils import create_uneducated_predictor"
   ]
  },
  {
   "cell_type": "markdown",
   "metadata": {},
   "source": [
    "Macro definition."
   ]
  },
  {
   "cell_type": "code",
   "execution_count": 2,
   "metadata": {},
   "outputs": [],
   "source": [
    "CENSUS_KNOWLEDGE_FILE = str(KNOWLEDGE_PATH / CensusIncome.knowledge_file_name)\n",
    "\n",
    "# Activation functions used for building the uneducated predictor\n",
    "\n",
    "ACTIVATION: str = \"relu\"\n",
    "LAST_ACTIVATION: str = \"sigmoid\"\n",
    "\n",
    "# Training parameters\n",
    "\n",
    "SEED = 0\n",
    "EPOCHS = 20\n",
    "BATCH_SIZE = 32\n",
    "VERBOSE = 1"
   ]
  },
  {
   "cell_type": "markdown",
   "metadata": {},
   "source": [
    "<a id='dataset'></a>"
   ]
  },
  {
   "cell_type": "markdown",
   "metadata": {},
   "source": [
    "## Dataset description, analysis and preprocessing\n",
    "(If you are interested only in the injection part you can skip this section)"
   ]
  },
  {
   "cell_type": "markdown",
   "metadata": {},
   "source": [
    "Download (if not already present) train and test set.\n",
    "The dataset contains general information about individuals (e.g., age, sex, education, etc.) and their yearly income (i.e., more or less than 50,000 USD)."
   ]
  },
  {
   "cell_type": "code",
   "execution_count": 3,
   "metadata": {},
   "outputs": [
    {
     "name": "stderr",
     "output_type": "stream",
     "text": [
      "/Users/matteomagnini/Documents/repositories/demo/demo-psyki-python/data/__init__.py:53: ParserWarning: Falling back to the 'python' engine because the 'c' engine does not support regex separators (separators > 1 char and different from '\\s+' are interpreted as regex); you can avoid this warning by specifying engine='python'.\n",
      "  d: pd.DataFrame = pd.read_csv(\n"
     ]
    }
   ],
   "source": [
    "not_processed_train = CensusIncome.get_train()\n",
    "not_processed_test = CensusIncome.get_test()"
   ]
  },
  {
   "cell_type": "markdown",
   "metadata": {},
   "source": [
    "A first look to the dataset."
   ]
  },
  {
   "cell_type": "code",
   "execution_count": 4,
   "metadata": {},
   "outputs": [
    {
     "data": {
      "text/plain": "       Age         WorkClass  Fnlwgt   Education  EducationNumeric  \\\n0       39         State-gov   77516   Bachelors                13   \n1       50  Self-emp-not-inc   83311   Bachelors                13   \n2       38           Private  215646     HS-grad                 9   \n3       53           Private  234721        11th                 7   \n4       28           Private  338409   Bachelors                13   \n...    ...               ...     ...         ...               ...   \n32556   27           Private  257302  Assoc-acdm                12   \n32557   40           Private  154374     HS-grad                 9   \n32558   58           Private  151910     HS-grad                 9   \n32559   22           Private  201490     HS-grad                 9   \n32560   52      Self-emp-inc  287927     HS-grad                 9   \n\n            MaritalStatus         Occupation   Relationship Ethnicity     Sex  \\\n0           Never-married       Adm-clerical  Not-in-family     White    Male   \n1      Married-civ-spouse    Exec-managerial        Husband     White    Male   \n2                Divorced  Handlers-cleaners  Not-in-family     White    Male   \n3      Married-civ-spouse  Handlers-cleaners        Husband     Black    Male   \n4      Married-civ-spouse     Prof-specialty           Wife     Black  Female   \n...                   ...                ...            ...       ...     ...   \n32556  Married-civ-spouse       Tech-support           Wife     White  Female   \n32557  Married-civ-spouse  Machine-op-inspct        Husband     White    Male   \n32558             Widowed       Adm-clerical      Unmarried     White  Female   \n32559       Never-married       Adm-clerical      Own-child     White    Male   \n32560  Married-civ-spouse    Exec-managerial           Wife     White  Female   \n\n       CapitalGain  CapitalLoss  HoursPerWeek  NativeCountry income  \n0             2174            0            40  United-States  <=50K  \n1                0            0            13  United-States  <=50K  \n2                0            0            40  United-States  <=50K  \n3                0            0            40  United-States  <=50K  \n4                0            0            40           Cuba  <=50K  \n...            ...          ...           ...            ...    ...  \n32556            0            0            38  United-States  <=50K  \n32557            0            0            40  United-States   >50K  \n32558            0            0            40  United-States  <=50K  \n32559            0            0            20  United-States  <=50K  \n32560        15024            0            40  United-States   >50K  \n\n[32561 rows x 15 columns]",
      "text/html": "<div>\n<style scoped>\n    .dataframe tbody tr th:only-of-type {\n        vertical-align: middle;\n    }\n\n    .dataframe tbody tr th {\n        vertical-align: top;\n    }\n\n    .dataframe thead th {\n        text-align: right;\n    }\n</style>\n<table border=\"1\" class=\"dataframe\">\n  <thead>\n    <tr style=\"text-align: right;\">\n      <th></th>\n      <th>Age</th>\n      <th>WorkClass</th>\n      <th>Fnlwgt</th>\n      <th>Education</th>\n      <th>EducationNumeric</th>\n      <th>MaritalStatus</th>\n      <th>Occupation</th>\n      <th>Relationship</th>\n      <th>Ethnicity</th>\n      <th>Sex</th>\n      <th>CapitalGain</th>\n      <th>CapitalLoss</th>\n      <th>HoursPerWeek</th>\n      <th>NativeCountry</th>\n      <th>income</th>\n    </tr>\n  </thead>\n  <tbody>\n    <tr>\n      <th>0</th>\n      <td>39</td>\n      <td>State-gov</td>\n      <td>77516</td>\n      <td>Bachelors</td>\n      <td>13</td>\n      <td>Never-married</td>\n      <td>Adm-clerical</td>\n      <td>Not-in-family</td>\n      <td>White</td>\n      <td>Male</td>\n      <td>2174</td>\n      <td>0</td>\n      <td>40</td>\n      <td>United-States</td>\n      <td>&lt;=50K</td>\n    </tr>\n    <tr>\n      <th>1</th>\n      <td>50</td>\n      <td>Self-emp-not-inc</td>\n      <td>83311</td>\n      <td>Bachelors</td>\n      <td>13</td>\n      <td>Married-civ-spouse</td>\n      <td>Exec-managerial</td>\n      <td>Husband</td>\n      <td>White</td>\n      <td>Male</td>\n      <td>0</td>\n      <td>0</td>\n      <td>13</td>\n      <td>United-States</td>\n      <td>&lt;=50K</td>\n    </tr>\n    <tr>\n      <th>2</th>\n      <td>38</td>\n      <td>Private</td>\n      <td>215646</td>\n      <td>HS-grad</td>\n      <td>9</td>\n      <td>Divorced</td>\n      <td>Handlers-cleaners</td>\n      <td>Not-in-family</td>\n      <td>White</td>\n      <td>Male</td>\n      <td>0</td>\n      <td>0</td>\n      <td>40</td>\n      <td>United-States</td>\n      <td>&lt;=50K</td>\n    </tr>\n    <tr>\n      <th>3</th>\n      <td>53</td>\n      <td>Private</td>\n      <td>234721</td>\n      <td>11th</td>\n      <td>7</td>\n      <td>Married-civ-spouse</td>\n      <td>Handlers-cleaners</td>\n      <td>Husband</td>\n      <td>Black</td>\n      <td>Male</td>\n      <td>0</td>\n      <td>0</td>\n      <td>40</td>\n      <td>United-States</td>\n      <td>&lt;=50K</td>\n    </tr>\n    <tr>\n      <th>4</th>\n      <td>28</td>\n      <td>Private</td>\n      <td>338409</td>\n      <td>Bachelors</td>\n      <td>13</td>\n      <td>Married-civ-spouse</td>\n      <td>Prof-specialty</td>\n      <td>Wife</td>\n      <td>Black</td>\n      <td>Female</td>\n      <td>0</td>\n      <td>0</td>\n      <td>40</td>\n      <td>Cuba</td>\n      <td>&lt;=50K</td>\n    </tr>\n    <tr>\n      <th>...</th>\n      <td>...</td>\n      <td>...</td>\n      <td>...</td>\n      <td>...</td>\n      <td>...</td>\n      <td>...</td>\n      <td>...</td>\n      <td>...</td>\n      <td>...</td>\n      <td>...</td>\n      <td>...</td>\n      <td>...</td>\n      <td>...</td>\n      <td>...</td>\n      <td>...</td>\n    </tr>\n    <tr>\n      <th>32556</th>\n      <td>27</td>\n      <td>Private</td>\n      <td>257302</td>\n      <td>Assoc-acdm</td>\n      <td>12</td>\n      <td>Married-civ-spouse</td>\n      <td>Tech-support</td>\n      <td>Wife</td>\n      <td>White</td>\n      <td>Female</td>\n      <td>0</td>\n      <td>0</td>\n      <td>38</td>\n      <td>United-States</td>\n      <td>&lt;=50K</td>\n    </tr>\n    <tr>\n      <th>32557</th>\n      <td>40</td>\n      <td>Private</td>\n      <td>154374</td>\n      <td>HS-grad</td>\n      <td>9</td>\n      <td>Married-civ-spouse</td>\n      <td>Machine-op-inspct</td>\n      <td>Husband</td>\n      <td>White</td>\n      <td>Male</td>\n      <td>0</td>\n      <td>0</td>\n      <td>40</td>\n      <td>United-States</td>\n      <td>&gt;50K</td>\n    </tr>\n    <tr>\n      <th>32558</th>\n      <td>58</td>\n      <td>Private</td>\n      <td>151910</td>\n      <td>HS-grad</td>\n      <td>9</td>\n      <td>Widowed</td>\n      <td>Adm-clerical</td>\n      <td>Unmarried</td>\n      <td>White</td>\n      <td>Female</td>\n      <td>0</td>\n      <td>0</td>\n      <td>40</td>\n      <td>United-States</td>\n      <td>&lt;=50K</td>\n    </tr>\n    <tr>\n      <th>32559</th>\n      <td>22</td>\n      <td>Private</td>\n      <td>201490</td>\n      <td>HS-grad</td>\n      <td>9</td>\n      <td>Never-married</td>\n      <td>Adm-clerical</td>\n      <td>Own-child</td>\n      <td>White</td>\n      <td>Male</td>\n      <td>0</td>\n      <td>0</td>\n      <td>20</td>\n      <td>United-States</td>\n      <td>&lt;=50K</td>\n    </tr>\n    <tr>\n      <th>32560</th>\n      <td>52</td>\n      <td>Self-emp-inc</td>\n      <td>287927</td>\n      <td>HS-grad</td>\n      <td>9</td>\n      <td>Married-civ-spouse</td>\n      <td>Exec-managerial</td>\n      <td>Wife</td>\n      <td>White</td>\n      <td>Female</td>\n      <td>15024</td>\n      <td>0</td>\n      <td>40</td>\n      <td>United-States</td>\n      <td>&gt;50K</td>\n    </tr>\n  </tbody>\n</table>\n<p>32561 rows × 15 columns</p>\n</div>"
     },
     "execution_count": 4,
     "metadata": {},
     "output_type": "execute_result"
    }
   ],
   "source": [
    "not_processed_train"
   ]
  },
  {
   "cell_type": "markdown",
   "metadata": {},
   "source": [
    "As you can see we are dealing with different data types. In particular:\n",
    "- Age, Fnlwgt, CapitalGain, CapitalLoss and HoursPerWeek are continuous (integer) features;\n",
    "- EducationNumeric is ordinal;\n",
    "- Sex is binary;\n",
    "- the remaining features are nominal (WorkClass, Education, MaritalStatus, Occupation, Relationship, NativeCountry)\n",
    "\n",
    "Ok. All feature names are self-explaining but Fnlwgt. What the hell is that?\n",
    "Fnlwgt stands for FinalWeight, and it is a popular belief that it should indicate the estimated number of people represented by the row.\n",
    "However, if we simply compute the sum of this feature along all the dataset (train and test) this value is..."
   ]
  },
  {
   "cell_type": "code",
   "execution_count": 5,
   "metadata": {},
   "outputs": [
    {
     "data": {
      "text/plain": "'12,358,746,784'"
     },
     "execution_count": 5,
     "metadata": {},
     "output_type": "execute_result"
    }
   ],
   "source": [
    "f'{sum(not_processed_train.Fnlwgt) + sum(not_processed_test.Fnlwgt):,}'"
   ]
  },
  {
   "cell_type": "markdown",
   "metadata": {},
   "source": [
    "so more than 9 billions, this is more than the actual Earth population! (and this is a dataset from the 90s concerning only the US)\n",
    "Therefore, this is not the correct interpretation of this feature.\n",
    "\n",
    "The actual meaning of Fnlwgt is much more complicated. If we look at the original data description available [here](https://archive.ics.uci.edu/ml/machine-learning-databases/adult/adult.names) we can read:\n",
    "\n",
    "> Description of fnlwgt (final weight)\n",
    ">\n",
    "> The weights on the CPS files are controlled to independent estimates of the\n",
    "civilian noninstitutional population of the US.  These are prepared monthly\n",
    "for us by Population Division here at the Census Bureau.  We use 3 sets of\n",
    "controls.\n",
    "These are:\n",
    "    1. A single cell estimate of the population 16+ for each state.\n",
    "    2. Controls for Hispanic Origin by age and sex.\n",
    "    3. Controls by Race, age and sex.\n",
    "\n",
    "> We use all three sets of controls in our weighting program and \"rake\" through\n",
    "them 6 times so that by the end we come back to all the controls we used.\n",
    ">\n",
    "> The term estimate refers to population totals derived from CPS by creating\n",
    "\"weighted tallies\" of any specified socio-economic characteristics of the\n",
    "population.\n",
    ">\n",
    "> People with similar demographic characteristics should have\n",
    "similar weights. There is one important caveat to remember\n",
    "about this statement. That is that since the CPS sample is\n",
    "actually a collection of 51 state samples, each with its own\n",
    "probability of selection, the statement only applies within\n",
    "state.\n",
    "\n",
    "Long story short, it is a similarity metric computed upon the other features.\n",
    "We can definitively ignore it in our study."
   ]
  },
  {
   "cell_type": "markdown",
   "metadata": {},
   "source": [
    "### Data preprocessing\n",
    "\n",
    "- Fnlwgt is discarded;\n",
    "- Education is discarded as well because EducationNumeric has the same information;\n",
    "- Sex is mapped into 0 (Male) and 1 (Female);\n",
    "- Income is mapped into 0 (<=50K) and 1 (>50K) as well;\n",
    "- The remaining nominal features are one-hot encoded (WorkClass, MaritalStatus, Occupation, Relationship, NativeCountry)."
   ]
  },
  {
   "cell_type": "code",
   "execution_count": 6,
   "metadata": {},
   "outputs": [
    {
     "data": {
      "text/plain": "                Age  EducationNumeric           Sex   CapitalGain  \\\ncount  32561.000000      32561.000000  32561.000000  32561.000000   \nmean      38.581647         10.080679      0.330795   1077.648844   \nstd       13.640433          2.572720      0.470506   7385.292085   \nmin       17.000000          1.000000      0.000000      0.000000   \n25%       28.000000          9.000000      0.000000      0.000000   \n50%       37.000000         10.000000      0.000000      0.000000   \n75%       48.000000         12.000000      1.000000      0.000000   \nmax       90.000000         16.000000      1.000000  99999.000000   \n\n        CapitalLoss  HoursPerWeek  WorkClass_unknown  WorkClass_federal_gov  \\\ncount  32561.000000  32561.000000       32561.000000           32561.000000   \nmean      87.303830     40.437456           0.056386               0.029483   \nstd      402.960219     12.347429           0.230670               0.169159   \nmin        0.000000      1.000000           0.000000               0.000000   \n25%        0.000000     40.000000           0.000000               0.000000   \n50%        0.000000     40.000000           0.000000               0.000000   \n75%        0.000000     45.000000           0.000000               0.000000   \nmax     4356.000000     99.000000           1.000000               1.000000   \n\n       WorkClass_local_gov  WorkClass_never_worked  ...  \\\ncount         32561.000000            32561.000000  ...   \nmean              0.064279                0.000215  ...   \nstd               0.245254                0.014661  ...   \nmin               0.000000                0.000000  ...   \n25%               0.000000                0.000000  ...   \n50%               0.000000                0.000000  ...   \n75%               0.000000                0.000000  ...   \nmax               1.000000                1.000000  ...   \n\n       NativeCountry_puerto_rico  NativeCountry_scotland  NativeCountry_south  \\\ncount               32561.000000            32561.000000         32561.000000   \nmean                    0.003501                0.000369             0.002457   \nstd                     0.059068                0.019194             0.049507   \nmin                     0.000000                0.000000             0.000000   \n25%                     0.000000                0.000000             0.000000   \n50%                     0.000000                0.000000             0.000000   \n75%                     0.000000                0.000000             0.000000   \nmax                     1.000000                1.000000             1.000000   \n\n       NativeCountry_taiwan  NativeCountry_thailand  \\\ncount          32561.000000            32561.000000   \nmean               0.001566                0.000553   \nstd                0.039546                0.023506   \nmin                0.000000                0.000000   \n25%                0.000000                0.000000   \n50%                0.000000                0.000000   \n75%                0.000000                0.000000   \nmax                1.000000                1.000000   \n\n       NativeCountry_trinadad_tobago  NativeCountry_united_states  \\\ncount                   32561.000000                 32561.000000   \nmean                        0.000584                     0.895857   \nstd                         0.024149                     0.305451   \nmin                         0.000000                     0.000000   \n25%                         0.000000                     1.000000   \n50%                         0.000000                     1.000000   \n75%                         0.000000                     1.000000   \nmax                         1.000000                     1.000000   \n\n       NativeCountry_vietnam  NativeCountry_yugoslavia        income  \ncount           32561.000000              32561.000000  32561.000000  \nmean                0.002058                  0.000491      0.240810  \nstd                 0.045316                  0.022162      0.427581  \nmin                 0.000000                  0.000000      0.000000  \n25%                 0.000000                  0.000000      0.000000  \n50%                 0.000000                  0.000000      0.000000  \n75%                 0.000000                  0.000000      0.000000  \nmax                 1.000000                  1.000000      1.000000  \n\n[8 rows x 91 columns]",
      "text/html": "<div>\n<style scoped>\n    .dataframe tbody tr th:only-of-type {\n        vertical-align: middle;\n    }\n\n    .dataframe tbody tr th {\n        vertical-align: top;\n    }\n\n    .dataframe thead th {\n        text-align: right;\n    }\n</style>\n<table border=\"1\" class=\"dataframe\">\n  <thead>\n    <tr style=\"text-align: right;\">\n      <th></th>\n      <th>Age</th>\n      <th>EducationNumeric</th>\n      <th>Sex</th>\n      <th>CapitalGain</th>\n      <th>CapitalLoss</th>\n      <th>HoursPerWeek</th>\n      <th>WorkClass_unknown</th>\n      <th>WorkClass_federal_gov</th>\n      <th>WorkClass_local_gov</th>\n      <th>WorkClass_never_worked</th>\n      <th>...</th>\n      <th>NativeCountry_puerto_rico</th>\n      <th>NativeCountry_scotland</th>\n      <th>NativeCountry_south</th>\n      <th>NativeCountry_taiwan</th>\n      <th>NativeCountry_thailand</th>\n      <th>NativeCountry_trinadad_tobago</th>\n      <th>NativeCountry_united_states</th>\n      <th>NativeCountry_vietnam</th>\n      <th>NativeCountry_yugoslavia</th>\n      <th>income</th>\n    </tr>\n  </thead>\n  <tbody>\n    <tr>\n      <th>count</th>\n      <td>32561.000000</td>\n      <td>32561.000000</td>\n      <td>32561.000000</td>\n      <td>32561.000000</td>\n      <td>32561.000000</td>\n      <td>32561.000000</td>\n      <td>32561.000000</td>\n      <td>32561.000000</td>\n      <td>32561.000000</td>\n      <td>32561.000000</td>\n      <td>...</td>\n      <td>32561.000000</td>\n      <td>32561.000000</td>\n      <td>32561.000000</td>\n      <td>32561.000000</td>\n      <td>32561.000000</td>\n      <td>32561.000000</td>\n      <td>32561.000000</td>\n      <td>32561.000000</td>\n      <td>32561.000000</td>\n      <td>32561.000000</td>\n    </tr>\n    <tr>\n      <th>mean</th>\n      <td>38.581647</td>\n      <td>10.080679</td>\n      <td>0.330795</td>\n      <td>1077.648844</td>\n      <td>87.303830</td>\n      <td>40.437456</td>\n      <td>0.056386</td>\n      <td>0.029483</td>\n      <td>0.064279</td>\n      <td>0.000215</td>\n      <td>...</td>\n      <td>0.003501</td>\n      <td>0.000369</td>\n      <td>0.002457</td>\n      <td>0.001566</td>\n      <td>0.000553</td>\n      <td>0.000584</td>\n      <td>0.895857</td>\n      <td>0.002058</td>\n      <td>0.000491</td>\n      <td>0.240810</td>\n    </tr>\n    <tr>\n      <th>std</th>\n      <td>13.640433</td>\n      <td>2.572720</td>\n      <td>0.470506</td>\n      <td>7385.292085</td>\n      <td>402.960219</td>\n      <td>12.347429</td>\n      <td>0.230670</td>\n      <td>0.169159</td>\n      <td>0.245254</td>\n      <td>0.014661</td>\n      <td>...</td>\n      <td>0.059068</td>\n      <td>0.019194</td>\n      <td>0.049507</td>\n      <td>0.039546</td>\n      <td>0.023506</td>\n      <td>0.024149</td>\n      <td>0.305451</td>\n      <td>0.045316</td>\n      <td>0.022162</td>\n      <td>0.427581</td>\n    </tr>\n    <tr>\n      <th>min</th>\n      <td>17.000000</td>\n      <td>1.000000</td>\n      <td>0.000000</td>\n      <td>0.000000</td>\n      <td>0.000000</td>\n      <td>1.000000</td>\n      <td>0.000000</td>\n      <td>0.000000</td>\n      <td>0.000000</td>\n      <td>0.000000</td>\n      <td>...</td>\n      <td>0.000000</td>\n      <td>0.000000</td>\n      <td>0.000000</td>\n      <td>0.000000</td>\n      <td>0.000000</td>\n      <td>0.000000</td>\n      <td>0.000000</td>\n      <td>0.000000</td>\n      <td>0.000000</td>\n      <td>0.000000</td>\n    </tr>\n    <tr>\n      <th>25%</th>\n      <td>28.000000</td>\n      <td>9.000000</td>\n      <td>0.000000</td>\n      <td>0.000000</td>\n      <td>0.000000</td>\n      <td>40.000000</td>\n      <td>0.000000</td>\n      <td>0.000000</td>\n      <td>0.000000</td>\n      <td>0.000000</td>\n      <td>...</td>\n      <td>0.000000</td>\n      <td>0.000000</td>\n      <td>0.000000</td>\n      <td>0.000000</td>\n      <td>0.000000</td>\n      <td>0.000000</td>\n      <td>1.000000</td>\n      <td>0.000000</td>\n      <td>0.000000</td>\n      <td>0.000000</td>\n    </tr>\n    <tr>\n      <th>50%</th>\n      <td>37.000000</td>\n      <td>10.000000</td>\n      <td>0.000000</td>\n      <td>0.000000</td>\n      <td>0.000000</td>\n      <td>40.000000</td>\n      <td>0.000000</td>\n      <td>0.000000</td>\n      <td>0.000000</td>\n      <td>0.000000</td>\n      <td>...</td>\n      <td>0.000000</td>\n      <td>0.000000</td>\n      <td>0.000000</td>\n      <td>0.000000</td>\n      <td>0.000000</td>\n      <td>0.000000</td>\n      <td>1.000000</td>\n      <td>0.000000</td>\n      <td>0.000000</td>\n      <td>0.000000</td>\n    </tr>\n    <tr>\n      <th>75%</th>\n      <td>48.000000</td>\n      <td>12.000000</td>\n      <td>1.000000</td>\n      <td>0.000000</td>\n      <td>0.000000</td>\n      <td>45.000000</td>\n      <td>0.000000</td>\n      <td>0.000000</td>\n      <td>0.000000</td>\n      <td>0.000000</td>\n      <td>...</td>\n      <td>0.000000</td>\n      <td>0.000000</td>\n      <td>0.000000</td>\n      <td>0.000000</td>\n      <td>0.000000</td>\n      <td>0.000000</td>\n      <td>1.000000</td>\n      <td>0.000000</td>\n      <td>0.000000</td>\n      <td>0.000000</td>\n    </tr>\n    <tr>\n      <th>max</th>\n      <td>90.000000</td>\n      <td>16.000000</td>\n      <td>1.000000</td>\n      <td>99999.000000</td>\n      <td>4356.000000</td>\n      <td>99.000000</td>\n      <td>1.000000</td>\n      <td>1.000000</td>\n      <td>1.000000</td>\n      <td>1.000000</td>\n      <td>...</td>\n      <td>1.000000</td>\n      <td>1.000000</td>\n      <td>1.000000</td>\n      <td>1.000000</td>\n      <td>1.000000</td>\n      <td>1.000000</td>\n      <td>1.000000</td>\n      <td>1.000000</td>\n      <td>1.000000</td>\n      <td>1.000000</td>\n    </tr>\n  </tbody>\n</table>\n<p>8 rows × 91 columns</p>\n</div>"
     },
     "execution_count": 6,
     "metadata": {},
     "output_type": "execute_result"
    }
   ],
   "source": [
    "processed_dataset = CensusIncome.get_processed_dataset(pd.concat((not_processed_train, not_processed_test), axis=0))\n",
    "train = processed_dataset.iloc[:not_processed_train.shape[0], :]\n",
    "test = processed_dataset.iloc[not_processed_train.shape[0]:, :]\n",
    "train.describe()"
   ]
  },
  {
   "cell_type": "markdown",
   "metadata": {},
   "source": [
    "How features are correlated with the target variable income?"
   ]
  },
  {
   "cell_type": "code",
   "execution_count": 7,
   "metadata": {},
   "outputs": [
    {
     "data": {
      "text/plain": "income                              1.000000\nMaritalStatus_married_civ_spouse    0.444696\nRelationship_husband                0.401035\nEducationNumeric                    0.335154\nAge                                 0.234037\n                                      ...   \nOccupation_other_service           -0.156348\nRelationship_not_in_family         -0.188497\nSex                                -0.215980\nRelationship_own_child             -0.228532\nMaritalStatus_never_married        -0.318440\nName: income, Length: 91, dtype: float64"
     },
     "execution_count": 7,
     "metadata": {},
     "output_type": "execute_result"
    }
   ],
   "source": [
    "train.corr().income.sort_values(ascending=False)"
   ]
  },
  {
   "cell_type": "markdown",
   "metadata": {},
   "source": [
    "<a id='injection'></a>\n",
    "## Injection\n",
    "\n",
    "### Knowledge"
   ]
  },
  {
   "cell_type": "code",
   "execution_count": 8,
   "metadata": {},
   "outputs": [],
   "source": [
    "knowledge = TuProlog.from_file(CENSUS_KNOWLEDGE_FILE)\n",
    "theory = Theory(knowledge, train)\n",
    "\n",
    "# You can also create a theory in one single line providing the file path of the knowledge instead of the knowledge itself.\n",
    "# theory = Theory(CENSUS_KNOWLEDGE_FILE, train)"
   ]
  },
  {
   "cell_type": "markdown",
   "metadata": {},
   "source": [
    "\n",
    "This knowledge is extracted from a decision tree trained on the train dataset.\n",
    "The overall accuracy of the tree is 84.9% on the train set.\n",
    "It consists in the following 10 rules"
   ]
  },
  {
   "cell_type": "code",
   "execution_count": 9,
   "metadata": {},
   "outputs": [
    {
     "name": "stdout",
     "output_type": "stream",
     "text": [
      "EducationNumeric > 12.0, MaritalStatus_married_civ_spouse > 0.0 -> 1.0\n",
      "EducationNumeric < 12.0, CapitalGain < 5119.0, CapitalLoss < 1820.0 -> 0.0\n",
      "EducationNumeric > 12.0, MaritalStatus_married_civ_spouse < 0.0, CapitalGain < 7073.0 -> 0.0\n",
      "EducationNumeric > 12.0, MaritalStatus_married_civ_spouse < 0.0, CapitalGain > 7073.0 -> 1.0\n",
      "CapitalGain < 5119.0, CapitalLoss > 1820.0, MaritalStatus_married_civ_spouse < 0.0 -> 0.0\n",
      "CapitalGain < 5119.0, CapitalLoss > 1820.0, MaritalStatus_married_civ_spouse > 0.0, EducationNumeric < 8.0 -> 0.0\n",
      "CapitalGain < 5119.0, CapitalLoss > 1820.0, MaritalStatus_married_civ_spouse > 0.0, EducationNumeric > 8.0 -> 1.0\n",
      "CapitalGain > 7073.0 -> 1.0\n",
      "MaritalStatus_married_civ_spouse < 0.0 -> 0.0\n",
      "True -> 1.0\n"
     ]
    }
   ],
   "source": [
    "for rule in theory.formulae:\n",
    "    print(f\"{rule.rhs} -> {rule.lhs.args.last}\")"
   ]
  },
  {
   "cell_type": "markdown",
   "source": [
    "It is possible to specify that a certain rule is trainable, i.e., the weights and biases of neurons corresponding to the logic rule are affected by the training process.\n",
    "Usually, allowing the training of all rules means that the training is slower but accuracy should be higher.\n",
    "In this case, we choose not to train the rules."
   ],
   "metadata": {
    "collapsed": false
   }
  },
  {
   "cell_type": "code",
   "execution_count": 10,
   "outputs": [],
   "source": [
    "# You can make all rules trainable by running the following line\n",
    "theory.set_all_formulae_trainable()\n",
    "\n",
    "# You can also make specific rules trainable by running the following line\n",
    "theory.set_formulae_trainable([\"class\"])  # class is the name of the rule (i.e., the name of the predicate)\n",
    "\n",
    "# To make all rules not trainable (a.k.a. static) run the following line\n",
    "theory.set_all_formulae_static()"
   ],
   "metadata": {
    "collapsed": false
   }
  },
  {
   "cell_type": "markdown",
   "metadata": {},
   "source": [
    "### The actual injection is as simple as that"
   ]
  },
  {
   "cell_type": "code",
   "execution_count": 11,
   "metadata": {},
   "outputs": [],
   "source": [
    "set_seed(0)\n",
    "# Here we create a fully-connected NN with 1 hidden layer of 10 neurons\n",
    "uneducated = create_uneducated_predictor(train.shape[1]-1, 1, [10], ACTIVATION, LAST_ACTIVATION)\n",
    "injector = Injector.kins(uneducated)\n",
    "educated = injector.inject(theory)"
   ]
  },
  {
   "cell_type": "markdown",
   "metadata": {},
   "source": [
    "Done!"
   ]
  },
  {
   "cell_type": "markdown",
   "metadata": {},
   "source": [
    "<a id='training'></a>\n",
    "## Training and evaluation\n",
    "\n",
    "From now on it is just the same as a common ML project"
   ]
  },
  {
   "cell_type": "code",
   "execution_count": 12,
   "metadata": {},
   "outputs": [
    {
     "name": "stderr",
     "output_type": "stream",
     "text": [
      "2023-04-21 16:24:09.029977: W tensorflow/core/platform/profile_utils/cpu_utils.cc:128] Failed to get CPU frequency: 0 Hz\n"
     ]
    },
    {
     "name": "stdout",
     "output_type": "stream",
     "text": [
      "Epoch 1/20\n",
      "1018/1018 [==============================] - 2s 629us/step - loss: 0.7233 - accuracy: 0.8014\n",
      "Epoch 2/20\n",
      "1018/1018 [==============================] - 1s 667us/step - loss: 0.4583 - accuracy: 0.8374\n",
      "Epoch 3/20\n",
      "1018/1018 [==============================] - 1s 677us/step - loss: 0.4476 - accuracy: 0.8410\n",
      "Epoch 4/20\n",
      "1018/1018 [==============================] - 1s 596us/step - loss: 0.4363 - accuracy: 0.8428\n",
      "Epoch 5/20\n",
      "1018/1018 [==============================] - 1s 554us/step - loss: 0.5211 - accuracy: 0.8424\n",
      "Epoch 6/20\n",
      "1018/1018 [==============================] - 1s 556us/step - loss: 0.3977 - accuracy: 0.8436\n",
      "Epoch 7/20\n",
      "1018/1018 [==============================] - 1s 556us/step - loss: 0.4114 - accuracy: 0.8456\n",
      "Epoch 8/20\n",
      "1018/1018 [==============================] - 1s 556us/step - loss: 0.4792 - accuracy: 0.8444\n",
      "Epoch 9/20\n",
      "1018/1018 [==============================] - 1s 567us/step - loss: 0.4854 - accuracy: 0.8459\n",
      "Epoch 10/20\n",
      "1018/1018 [==============================] - 1s 559us/step - loss: 0.3758 - accuracy: 0.8474\n",
      "Epoch 11/20\n",
      "1018/1018 [==============================] - 1s 554us/step - loss: 0.4341 - accuracy: 0.8462\n",
      "Epoch 12/20\n",
      "1018/1018 [==============================] - 1s 570us/step - loss: 0.3652 - accuracy: 0.8498\n",
      "Epoch 13/20\n",
      "1018/1018 [==============================] - 1s 551us/step - loss: 0.4574 - accuracy: 0.8476\n",
      "Epoch 14/20\n",
      "1018/1018 [==============================] - 1s 559us/step - loss: 0.4150 - accuracy: 0.8483\n",
      "Epoch 15/20\n",
      "1018/1018 [==============================] - 1s 558us/step - loss: 0.3838 - accuracy: 0.8497\n",
      "Epoch 16/20\n",
      "1018/1018 [==============================] - 1s 569us/step - loss: 0.3810 - accuracy: 0.8499\n",
      "Epoch 17/20\n",
      "1018/1018 [==============================] - 1s 624us/step - loss: 0.4488 - accuracy: 0.8494\n",
      "Epoch 18/20\n",
      "1018/1018 [==============================] - 1s 620us/step - loss: 0.4075 - accuracy: 0.8506\n",
      "Epoch 19/20\n",
      "1018/1018 [==============================] - 1s 616us/step - loss: 0.3759 - accuracy: 0.8508\n",
      "Epoch 20/20\n",
      "1018/1018 [==============================] - 1s 592us/step - loss: 0.4012 - accuracy: 0.8506\n"
     ]
    }
   ],
   "source": [
    "educated.compile(optimizer='adam', loss='binary_crossentropy', metrics='accuracy')\n",
    "history_educated = educated.fit(train.iloc[:, :-1], train.iloc[:, -1], epochs=EPOCHS, batch_size=BATCH_SIZE, verbose=VERBOSE)"
   ]
  },
  {
   "cell_type": "code",
   "execution_count": 13,
   "metadata": {},
   "outputs": [
    {
     "name": "stdout",
     "output_type": "stream",
     "text": [
      "1018/1018 [==============================] - 1s 570us/step - loss: 0.3317 - accuracy: 0.8565\n",
      "test set accuracy of the educated predictor: 85.65%\n"
     ]
    }
   ],
   "source": [
    "_, acc = educated.evaluate(test.iloc[:, :-1], test.iloc[:, -1])\n",
    "print(f'test set accuracy of the educated predictor: {acc*100:.2f}%')"
   ]
  },
  {
   "cell_type": "markdown",
   "metadata": {},
   "source": [
    "What about the uneducated predictor?"
   ]
  },
  {
   "cell_type": "markdown",
   "metadata": {},
   "source": []
  },
  {
   "cell_type": "code",
   "execution_count": 14,
   "metadata": {},
   "outputs": [
    {
     "name": "stdout",
     "output_type": "stream",
     "text": [
      "Epoch 1/20\n",
      "1018/1018 [==============================] - 1s 367us/step - loss: 1.2855 - accuracy: 0.7291\n",
      "Epoch 2/20\n",
      "1018/1018 [==============================] - 1s 493us/step - loss: 0.4891 - accuracy: 0.8211\n",
      "Epoch 3/20\n",
      "1018/1018 [==============================] - 1s 780us/step - loss: 0.5020 - accuracy: 0.8312\n",
      "Epoch 4/20\n",
      "1018/1018 [==============================] - 0s 372us/step - loss: 0.4442 - accuracy: 0.8362\n",
      "Epoch 5/20\n",
      "1018/1018 [==============================] - 0s 319us/step - loss: 0.5318 - accuracy: 0.8392\n",
      "Epoch 6/20\n",
      "1018/1018 [==============================] - 0s 351us/step - loss: 0.3979 - accuracy: 0.8432\n",
      "Epoch 7/20\n",
      "1018/1018 [==============================] - 0s 405us/step - loss: 0.4031 - accuracy: 0.8443\n",
      "Epoch 8/20\n",
      "1018/1018 [==============================] - 0s 426us/step - loss: 0.4908 - accuracy: 0.8437\n",
      "Epoch 9/20\n",
      "1018/1018 [==============================] - 0s 320us/step - loss: 0.5027 - accuracy: 0.8434\n",
      "Epoch 10/20\n",
      "1018/1018 [==============================] - 0s 319us/step - loss: 0.4003 - accuracy: 0.8440\n",
      "Epoch 11/20\n",
      "1018/1018 [==============================] - 0s 319us/step - loss: 0.4550 - accuracy: 0.8436\n",
      "Epoch 12/20\n",
      "1018/1018 [==============================] - 0s 326us/step - loss: 0.3961 - accuracy: 0.8471\n",
      "Epoch 13/20\n",
      "1018/1018 [==============================] - 0s 333us/step - loss: 0.5183 - accuracy: 0.8433\n",
      "Epoch 14/20\n",
      "1018/1018 [==============================] - 0s 314us/step - loss: 0.4561 - accuracy: 0.8439\n",
      "Epoch 15/20\n",
      "1018/1018 [==============================] - 0s 319us/step - loss: 0.4557 - accuracy: 0.8479\n",
      "Epoch 16/20\n",
      "1018/1018 [==============================] - 0s 315us/step - loss: 0.4133 - accuracy: 0.8469\n",
      "Epoch 17/20\n",
      "1018/1018 [==============================] - 0s 319us/step - loss: 0.4598 - accuracy: 0.8456\n",
      "Epoch 18/20\n",
      "1018/1018 [==============================] - 0s 314us/step - loss: 0.4206 - accuracy: 0.8476\n",
      "Epoch 19/20\n",
      "1018/1018 [==============================] - 0s 309us/step - loss: 0.3958 - accuracy: 0.8483\n",
      "Epoch 20/20\n",
      "1018/1018 [==============================] - 0s 308us/step - loss: 0.4171 - accuracy: 0.8470\n"
     ]
    }
   ],
   "source": [
    "uneducated.compile(optimizer='adam', loss='binary_crossentropy', metrics='accuracy')\n",
    "history_uneducated = uneducated.fit(train.iloc[:, :-1], train.iloc[:, -1], epochs=EPOCHS, batch_size=BATCH_SIZE, verbose=VERBOSE)"
   ]
  },
  {
   "cell_type": "code",
   "execution_count": 15,
   "metadata": {},
   "outputs": [
    {
     "name": "stdout",
     "output_type": "stream",
     "text": [
      "1018/1018 [==============================] - 0s 226us/step - loss: 0.3659 - accuracy: 0.8473\n",
      "test set accuracy of the uneducated predictor: 84.73%\n"
     ]
    }
   ],
   "source": [
    "_, acc = uneducated.evaluate(test.iloc[:, :-1], test.iloc[:, -1])\n",
    "print(f'test set accuracy of the uneducated predictor: {acc*100:.2f}%')"
   ]
  }
 ],
 "metadata": {
  "kernelspec": {
   "display_name": "Python 3 (ipykernel)",
   "language": "python",
   "name": "python3"
  },
  "language_info": {
   "codemirror_mode": {
    "name": "ipython",
    "version": 3
   },
   "file_extension": ".py",
   "mimetype": "text/x-python",
   "name": "python",
   "nbconvert_exporter": "python",
   "pygments_lexer": "ipython3",
   "version": "3.9.0"
  }
 },
 "nbformat": 4,
 "nbformat_minor": 1
}
